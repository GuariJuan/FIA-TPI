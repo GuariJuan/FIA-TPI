{
  "nbformat": 4,
  "nbformat_minor": 0,
  "metadata": {
    "colab": {
      "provenance": [],
      "collapsed_sections": [
        "0xIqbS8OLrDI",
        "xHHOh-11Lwch",
        "U0T4Z8MoL0DA"
      ],
      "authorship_tag": "ABX9TyOY4yuey71pVpvaTpiAOwMi",
      "include_colab_link": true
    },
    "kernelspec": {
      "name": "ir",
      "display_name": "R"
    },
    "language_info": {
      "name": "R"
    }
  },
  "cells": [
    {
      "cell_type": "markdown",
      "metadata": {
        "id": "view-in-github",
        "colab_type": "text"
      },
      "source": [
        "<a href=\"https://colab.research.google.com/github/GuariJuan/FIA2023-TPI/blob/main/FIA2023_TPI_GUARI_JUAN_PABLO.ipynb\" target=\"_parent\"><img src=\"https://colab.research.google.com/assets/colab-badge.svg\" alt=\"Open In Colab\"/></a>"
      ]
    },
    {
      "cell_type": "markdown",
      "source": [
        "PRACTICOS ANTERIORES\n",
        "\n",
        "TP5: https://github.com/GuariJuan/FIA-TP5/tree/develop\n",
        "\n",
        "TP5-Parte-2: https://github.com/GuariJuan/FIA-TP5-P2\n",
        "\n",
        "TP6: https://github.com/GuariJuan/FIA-TP6"
      ],
      "metadata": {
        "id": "9ViJ0U15gQO1"
      }
    },
    {
      "cell_type": "markdown",
      "source": [
        "TRABAJO PRACTICO INTEGRADOR\n",
        "\n",
        "#1. Crear un repositorio llamado FIA2023-TPI\n",
        "2. Crear un notebook en Google Colab y guardarlo como FIA2023-TPI"
      ],
      "metadata": {
        "id": "JxNBcHrsZ5Xc"
      }
    },
    {
      "cell_type": "markdown",
      "source": [
        "INTALAMOS TODAS LAS LIBRERIAS NECESARIAS\n"
      ],
      "metadata": {
        "id": "8zzq943QAkKi"
      }
    },
    {
      "cell_type": "code",
      "source": [
        "install.packages('lubridate') #para fechas\n",
        "install.packages('ggplot2') #para graficos\n",
        "install.packages('ggdist') #para histograma\n",
        "install.packages(\"e1071\")#svm\n",
        "install.packages(\"randomForest\") #randomForest\n",
        "install.packages(\"clock\") #necesaria para instalar 'caret'\n",
        "install.packages(\"caret\") #para el particionado del df\n",
        "install.packages(\"fastDummies\") #para realizar el casteo (one-hot encoding)\n",
        "install.packages('neuralnet')\n",
        "install.packages('NeuralNetTools')\n",
        "install.packages('gridExtra')"
      ],
      "metadata": {
        "colab": {
          "base_uri": "https://localhost:8080/"
        },
        "id": "ZH5AMf6jAwUj",
        "outputId": "11208384-21a6-40ec-8db8-aef00eb9462d"
      },
      "execution_count": 3,
      "outputs": [
        {
          "output_type": "stream",
          "name": "stderr",
          "text": [
            "Installing package into ‘/usr/local/lib/R/site-library’\n",
            "(as ‘lib’ is unspecified)\n",
            "\n",
            "Installing package into ‘/usr/local/lib/R/site-library’\n",
            "(as ‘lib’ is unspecified)\n",
            "\n",
            "Installing package into ‘/usr/local/lib/R/site-library’\n",
            "(as ‘lib’ is unspecified)\n",
            "\n",
            "also installing the dependencies ‘distributional’, ‘numDeriv’, ‘quadprog’, ‘Rcpp’\n",
            "\n",
            "\n",
            "Installing package into ‘/usr/local/lib/R/site-library’\n",
            "(as ‘lib’ is unspecified)\n",
            "\n",
            "also installing the dependency ‘proxy’\n",
            "\n",
            "\n",
            "Installing package into ‘/usr/local/lib/R/site-library’\n",
            "(as ‘lib’ is unspecified)\n",
            "\n",
            "Installing package into ‘/usr/local/lib/R/site-library’\n",
            "(as ‘lib’ is unspecified)\n",
            "\n",
            "Installing package into ‘/usr/local/lib/R/site-library’\n",
            "(as ‘lib’ is unspecified)\n",
            "\n",
            "also installing the dependencies ‘listenv’, ‘parallelly’, ‘future’, ‘globals’, ‘shape’, ‘future.apply’, ‘progressr’, ‘SQUAREM’, ‘diagram’, ‘lava’, ‘prodlim’, ‘iterators’, ‘gower’, ‘hardhat’, ‘ipred’, ‘timeDate’, ‘foreach’, ‘ModelMetrics’, ‘plyr’, ‘pROC’, ‘recipes’, ‘reshape2’\n",
            "\n",
            "\n",
            "Installing package into ‘/usr/local/lib/R/site-library’\n",
            "(as ‘lib’ is unspecified)\n",
            "\n",
            "Installing package into ‘/usr/local/lib/R/site-library’\n",
            "(as ‘lib’ is unspecified)\n",
            "\n",
            "also installing the dependency ‘Deriv’\n",
            "\n",
            "\n",
            "Installing package into ‘/usr/local/lib/R/site-library’\n",
            "(as ‘lib’ is unspecified)\n",
            "\n",
            "Installing package into ‘/usr/local/lib/R/site-library’\n",
            "(as ‘lib’ is unspecified)\n",
            "\n"
          ]
        }
      ]
    },
    {
      "cell_type": "markdown",
      "source": [
        "IMPORTAMOS LAS LIBRERIAS"
      ],
      "metadata": {
        "id": "e91gpoCkA-5Z"
      }
    },
    {
      "cell_type": "code",
      "source": [
        "library(lubridate)\n",
        "library(ggplot2)\n",
        "library(ggdist)\n",
        "library(dplyr)\n",
        "library(e1071)\n",
        "library(randomForest)\n",
        "library(caret)\n",
        "library(reshape2)\n",
        "library(fastDummies)\n",
        "library(neuralnet)\n",
        "library(NeuralNetTools)\n",
        "library(gridExtra)"
      ],
      "metadata": {
        "colab": {
          "base_uri": "https://localhost:8080/"
        },
        "id": "TpqQnavhDAhT",
        "outputId": "e65699c8-6c83-4afd-9311-6ffdd6166653"
      },
      "execution_count": 4,
      "outputs": [
        {
          "output_type": "stream",
          "name": "stderr",
          "text": [
            "\n",
            "Attaching package: ‘dplyr’\n",
            "\n",
            "\n",
            "The following objects are masked from ‘package:stats’:\n",
            "\n",
            "    filter, lag\n",
            "\n",
            "\n",
            "The following objects are masked from ‘package:base’:\n",
            "\n",
            "    intersect, setdiff, setequal, union\n",
            "\n",
            "\n",
            "randomForest 4.7-1.1\n",
            "\n",
            "Type rfNews() to see new features/changes/bug fixes.\n",
            "\n",
            "\n",
            "Attaching package: ‘randomForest’\n",
            "\n",
            "\n",
            "The following object is masked from ‘package:dplyr’:\n",
            "\n",
            "    combine\n",
            "\n",
            "\n",
            "The following object is masked from ‘package:ggplot2’:\n",
            "\n",
            "    margin\n",
            "\n",
            "\n",
            "Loading required package: lattice\n",
            "\n",
            "Thank you for using fastDummies!\n",
            "\n",
            "To acknowledge our work, please cite the package:\n",
            "\n",
            "Kaplan, J. & Schlegel, B. (2023). fastDummies: Fast Creation of Dummy (Binary) Columns and Rows from Categorical Variables. Version 1.7.1. URL: https://github.com/jacobkap/fastDummies, https://jacobkap.github.io/fastDummies/.\n",
            "\n",
            "\n",
            "Attaching package: ‘neuralnet’\n",
            "\n",
            "\n",
            "The following object is masked from ‘package:dplyr’:\n",
            "\n",
            "    compute\n",
            "\n",
            "\n",
            "\n",
            "Attaching package: ‘gridExtra’\n",
            "\n",
            "\n",
            "The following object is masked from ‘package:randomForest’:\n",
            "\n",
            "    combine\n",
            "\n",
            "\n",
            "The following object is masked from ‘package:dplyr’:\n",
            "\n",
            "    combine\n",
            "\n",
            "\n"
          ]
        }
      ]
    },
    {
      "cell_type": "markdown",
      "source": [
        "#3. Cargar los archivos princess.csv y wine.csv en dos dataframes de R y explorarlos."
      ],
      "metadata": {
        "id": "5ySrpHdHGFTt"
      }
    },
    {
      "cell_type": "markdown",
      "source": [
        "CARGA DE DATAFRAMES"
      ],
      "metadata": {
        "id": "l4qgadnqGRAp"
      }
    },
    {
      "cell_type": "code",
      "source": [
        "# Leer los archivos CSV y almacenarlos en dataframes\n",
        "princess_df <- read.csv(\"princess.csv\")\n",
        "wine_df <- read.csv(\"wine.csv\")"
      ],
      "metadata": {
        "id": "WJ3m3zFgZ73b"
      },
      "execution_count": 5,
      "outputs": []
    },
    {
      "cell_type": "markdown",
      "source": [
        "EXPLORACION DE DATAFRAMES"
      ],
      "metadata": {
        "id": "8jAHocEnGMTT"
      }
    },
    {
      "cell_type": "code",
      "source": [
        "# Visualizar las primeras filas de cada dataframe\n",
        "head(princess_df)\n",
        "head(wine_df)\n",
        "\n",
        "# OBSERVACION:Observo que el label del segundo dataframe \"wine_df\" no es de tipo numerico por lo que para\n",
        "## trabajar con el sera necesario convetirlo a tipo numerico. Otra observacion es la cantidad de variables que tiene cada dataframe observando a simple vista que la segunda tiene\n",
        "### menor cantidad."
      ],
      "metadata": {
        "colab": {
          "base_uri": "https://localhost:8080/",
          "height": 575
        },
        "id": "1OSSlnTSGeRy",
        "outputId": "12c22157-c531-4f48-9f57-209f7ce88c36"
      },
      "execution_count": 6,
      "outputs": [
        {
          "output_type": "display_data",
          "data": {
            "text/html": [
              "<table class=\"dataframe\">\n",
              "<caption>A data.frame: 6 × 14</caption>\n",
              "<thead>\n",
              "\t<tr><th></th><th scope=col>Phoenix.Feather</th><th scope=col>Unicorn.Horn</th><th scope=col>Dragon.s.Blood</th><th scope=col>Mermaid.Tears</th><th scope=col>Fairy.Dust</th><th scope=col>Goblin.Toes</th><th scope=col>Witch.s.Brew</th><th scope=col>Griffin.Claw</th><th scope=col>Troll.Hair</th><th scope=col>Kraken.Ink</th><th scope=col>Minotaur.Horn</th><th scope=col>Basilisk.Scale</th><th scope=col>Chimera.Fang</th><th scope=col>Cured</th></tr>\n",
              "\t<tr><th></th><th scope=col>&lt;dbl&gt;</th><th scope=col>&lt;dbl&gt;</th><th scope=col>&lt;dbl&gt;</th><th scope=col>&lt;dbl&gt;</th><th scope=col>&lt;dbl&gt;</th><th scope=col>&lt;dbl&gt;</th><th scope=col>&lt;dbl&gt;</th><th scope=col>&lt;dbl&gt;</th><th scope=col>&lt;dbl&gt;</th><th scope=col>&lt;dbl&gt;</th><th scope=col>&lt;dbl&gt;</th><th scope=col>&lt;dbl&gt;</th><th scope=col>&lt;dbl&gt;</th><th scope=col>&lt;int&gt;</th></tr>\n",
              "</thead>\n",
              "<tbody>\n",
              "\t<tr><th scope=row>1</th><td> 2.4</td><td>18.7</td><td>18.4</td><td>27.9</td><td> 7.9</td><td> 9.6</td><td>18.3</td><td>13.2</td><td> 2.5</td><td>26.0</td><td>10.5</td><td>26.2</td><td>12.5</td><td>0</td></tr>\n",
              "\t<tr><th scope=row>2</th><td> 2.1</td><td> 6.0</td><td>15.0</td><td>13.3</td><td>15.6</td><td>13.1</td><td>11.0</td><td> 5.0</td><td> 7.2</td><td>26.0</td><td> 1.5</td><td>13.3</td><td> 6.2</td><td>0</td></tr>\n",
              "\t<tr><th scope=row>3</th><td>17.2</td><td>13.9</td><td>23.8</td><td> 6.8</td><td>10.7</td><td>15.8</td><td>19.4</td><td> 2.7</td><td>15.4</td><td>21.2</td><td>11.1</td><td>16.6</td><td>11.4</td><td>1</td></tr>\n",
              "\t<tr><th scope=row>4</th><td> 8.4</td><td> 9.7</td><td> 6.8</td><td>26.9</td><td> 4.6</td><td>29.1</td><td>14.6</td><td>19.7</td><td>18.0</td><td>20.8</td><td>13.6</td><td>13.9</td><td> 8.1</td><td>1</td></tr>\n",
              "\t<tr><th scope=row>5</th><td>22.1</td><td>10.8</td><td>16.4</td><td>10.5</td><td>22.0</td><td>23.4</td><td> 2.6</td><td>18.2</td><td>23.8</td><td>11.3</td><td> 5.5</td><td>16.8</td><td>16.2</td><td>0</td></tr>\n",
              "\t<tr><th scope=row>6</th><td>21.9</td><td> 5.5</td><td>11.5</td><td> 5.0</td><td>27.9</td><td>20.9</td><td>20.5</td><td>22.7</td><td>33.9</td><td> 7.4</td><td> 3.6</td><td>38.4</td><td> 5.2</td><td>1</td></tr>\n",
              "</tbody>\n",
              "</table>\n"
            ],
            "text/markdown": "\nA data.frame: 6 × 14\n\n| <!--/--> | Phoenix.Feather &lt;dbl&gt; | Unicorn.Horn &lt;dbl&gt; | Dragon.s.Blood &lt;dbl&gt; | Mermaid.Tears &lt;dbl&gt; | Fairy.Dust &lt;dbl&gt; | Goblin.Toes &lt;dbl&gt; | Witch.s.Brew &lt;dbl&gt; | Griffin.Claw &lt;dbl&gt; | Troll.Hair &lt;dbl&gt; | Kraken.Ink &lt;dbl&gt; | Minotaur.Horn &lt;dbl&gt; | Basilisk.Scale &lt;dbl&gt; | Chimera.Fang &lt;dbl&gt; | Cured &lt;int&gt; |\n|---|---|---|---|---|---|---|---|---|---|---|---|---|---|---|\n| 1 |  2.4 | 18.7 | 18.4 | 27.9 |  7.9 |  9.6 | 18.3 | 13.2 |  2.5 | 26.0 | 10.5 | 26.2 | 12.5 | 0 |\n| 2 |  2.1 |  6.0 | 15.0 | 13.3 | 15.6 | 13.1 | 11.0 |  5.0 |  7.2 | 26.0 |  1.5 | 13.3 |  6.2 | 0 |\n| 3 | 17.2 | 13.9 | 23.8 |  6.8 | 10.7 | 15.8 | 19.4 |  2.7 | 15.4 | 21.2 | 11.1 | 16.6 | 11.4 | 1 |\n| 4 |  8.4 |  9.7 |  6.8 | 26.9 |  4.6 | 29.1 | 14.6 | 19.7 | 18.0 | 20.8 | 13.6 | 13.9 |  8.1 | 1 |\n| 5 | 22.1 | 10.8 | 16.4 | 10.5 | 22.0 | 23.4 |  2.6 | 18.2 | 23.8 | 11.3 |  5.5 | 16.8 | 16.2 | 0 |\n| 6 | 21.9 |  5.5 | 11.5 |  5.0 | 27.9 | 20.9 | 20.5 | 22.7 | 33.9 |  7.4 |  3.6 | 38.4 |  5.2 | 1 |\n\n",
            "text/latex": "A data.frame: 6 × 14\n\\begin{tabular}{r|llllllllllllll}\n  & Phoenix.Feather & Unicorn.Horn & Dragon.s.Blood & Mermaid.Tears & Fairy.Dust & Goblin.Toes & Witch.s.Brew & Griffin.Claw & Troll.Hair & Kraken.Ink & Minotaur.Horn & Basilisk.Scale & Chimera.Fang & Cured\\\\\n  & <dbl> & <dbl> & <dbl> & <dbl> & <dbl> & <dbl> & <dbl> & <dbl> & <dbl> & <dbl> & <dbl> & <dbl> & <dbl> & <int>\\\\\n\\hline\n\t1 &  2.4 & 18.7 & 18.4 & 27.9 &  7.9 &  9.6 & 18.3 & 13.2 &  2.5 & 26.0 & 10.5 & 26.2 & 12.5 & 0\\\\\n\t2 &  2.1 &  6.0 & 15.0 & 13.3 & 15.6 & 13.1 & 11.0 &  5.0 &  7.2 & 26.0 &  1.5 & 13.3 &  6.2 & 0\\\\\n\t3 & 17.2 & 13.9 & 23.8 &  6.8 & 10.7 & 15.8 & 19.4 &  2.7 & 15.4 & 21.2 & 11.1 & 16.6 & 11.4 & 1\\\\\n\t4 &  8.4 &  9.7 &  6.8 & 26.9 &  4.6 & 29.1 & 14.6 & 19.7 & 18.0 & 20.8 & 13.6 & 13.9 &  8.1 & 1\\\\\n\t5 & 22.1 & 10.8 & 16.4 & 10.5 & 22.0 & 23.4 &  2.6 & 18.2 & 23.8 & 11.3 &  5.5 & 16.8 & 16.2 & 0\\\\\n\t6 & 21.9 &  5.5 & 11.5 &  5.0 & 27.9 & 20.9 & 20.5 & 22.7 & 33.9 &  7.4 &  3.6 & 38.4 &  5.2 & 1\\\\\n\\end{tabular}\n",
            "text/plain": [
              "  Phoenix.Feather Unicorn.Horn Dragon.s.Blood Mermaid.Tears Fairy.Dust\n",
              "1  2.4            18.7         18.4           27.9           7.9      \n",
              "2  2.1             6.0         15.0           13.3          15.6      \n",
              "3 17.2            13.9         23.8            6.8          10.7      \n",
              "4  8.4             9.7          6.8           26.9           4.6      \n",
              "5 22.1            10.8         16.4           10.5          22.0      \n",
              "6 21.9             5.5         11.5            5.0          27.9      \n",
              "  Goblin.Toes Witch.s.Brew Griffin.Claw Troll.Hair Kraken.Ink Minotaur.Horn\n",
              "1  9.6        18.3         13.2          2.5       26.0       10.5         \n",
              "2 13.1        11.0          5.0          7.2       26.0        1.5         \n",
              "3 15.8        19.4          2.7         15.4       21.2       11.1         \n",
              "4 29.1        14.6         19.7         18.0       20.8       13.6         \n",
              "5 23.4         2.6         18.2         23.8       11.3        5.5         \n",
              "6 20.9        20.5         22.7         33.9        7.4        3.6         \n",
              "  Basilisk.Scale Chimera.Fang Cured\n",
              "1 26.2           12.5         0    \n",
              "2 13.3            6.2         0    \n",
              "3 16.6           11.4         1    \n",
              "4 13.9            8.1         1    \n",
              "5 16.8           16.2         0    \n",
              "6 38.4            5.2         1    "
            ]
          },
          "metadata": {}
        },
        {
          "output_type": "display_data",
          "data": {
            "text/html": [
              "<table class=\"dataframe\">\n",
              "<caption>A data.frame: 6 × 12</caption>\n",
              "<thead>\n",
              "\t<tr><th></th><th scope=col>fixed.acidity</th><th scope=col>volatile.acidity</th><th scope=col>citric.acid</th><th scope=col>residual.sugar</th><th scope=col>chlorides</th><th scope=col>free.sulfur.dioxide</th><th scope=col>total.sulfur.dioxide</th><th scope=col>density</th><th scope=col>pH</th><th scope=col>sulphates</th><th scope=col>alcohol</th><th scope=col>quality</th></tr>\n",
              "\t<tr><th></th><th scope=col>&lt;dbl&gt;</th><th scope=col>&lt;dbl&gt;</th><th scope=col>&lt;dbl&gt;</th><th scope=col>&lt;dbl&gt;</th><th scope=col>&lt;dbl&gt;</th><th scope=col>&lt;dbl&gt;</th><th scope=col>&lt;dbl&gt;</th><th scope=col>&lt;dbl&gt;</th><th scope=col>&lt;dbl&gt;</th><th scope=col>&lt;dbl&gt;</th><th scope=col>&lt;dbl&gt;</th><th scope=col>&lt;chr&gt;</th></tr>\n",
              "</thead>\n",
              "<tbody>\n",
              "\t<tr><th scope=row>1</th><td> 7.4</td><td>0.70</td><td>0.00</td><td>1.9</td><td>0.076</td><td>11</td><td>34</td><td>0.9978</td><td>3.51</td><td>0.56</td><td>9.4</td><td>bad </td></tr>\n",
              "\t<tr><th scope=row>2</th><td> 7.8</td><td>0.88</td><td>0.00</td><td>2.6</td><td>0.098</td><td>25</td><td>67</td><td>0.9968</td><td>3.20</td><td>0.68</td><td>9.8</td><td>bad </td></tr>\n",
              "\t<tr><th scope=row>3</th><td> 7.8</td><td>0.76</td><td>0.04</td><td>2.3</td><td>0.092</td><td>15</td><td>54</td><td>0.9970</td><td>3.26</td><td>0.65</td><td>9.8</td><td>bad </td></tr>\n",
              "\t<tr><th scope=row>4</th><td>11.2</td><td>0.28</td><td>0.56</td><td>1.9</td><td>0.075</td><td>17</td><td>60</td><td>0.9980</td><td>3.16</td><td>0.58</td><td>9.8</td><td>good</td></tr>\n",
              "\t<tr><th scope=row>5</th><td> 7.4</td><td>0.70</td><td>0.00</td><td>1.9</td><td>0.076</td><td>11</td><td>34</td><td>0.9978</td><td>3.51</td><td>0.56</td><td>9.4</td><td>bad </td></tr>\n",
              "\t<tr><th scope=row>6</th><td> 7.4</td><td>0.66</td><td>0.00</td><td>1.8</td><td>0.075</td><td>13</td><td>40</td><td>0.9978</td><td>3.51</td><td>0.56</td><td>9.4</td><td>bad </td></tr>\n",
              "</tbody>\n",
              "</table>\n"
            ],
            "text/markdown": "\nA data.frame: 6 × 12\n\n| <!--/--> | fixed.acidity &lt;dbl&gt; | volatile.acidity &lt;dbl&gt; | citric.acid &lt;dbl&gt; | residual.sugar &lt;dbl&gt; | chlorides &lt;dbl&gt; | free.sulfur.dioxide &lt;dbl&gt; | total.sulfur.dioxide &lt;dbl&gt; | density &lt;dbl&gt; | pH &lt;dbl&gt; | sulphates &lt;dbl&gt; | alcohol &lt;dbl&gt; | quality &lt;chr&gt; |\n|---|---|---|---|---|---|---|---|---|---|---|---|---|\n| 1 |  7.4 | 0.70 | 0.00 | 1.9 | 0.076 | 11 | 34 | 0.9978 | 3.51 | 0.56 | 9.4 | bad  |\n| 2 |  7.8 | 0.88 | 0.00 | 2.6 | 0.098 | 25 | 67 | 0.9968 | 3.20 | 0.68 | 9.8 | bad  |\n| 3 |  7.8 | 0.76 | 0.04 | 2.3 | 0.092 | 15 | 54 | 0.9970 | 3.26 | 0.65 | 9.8 | bad  |\n| 4 | 11.2 | 0.28 | 0.56 | 1.9 | 0.075 | 17 | 60 | 0.9980 | 3.16 | 0.58 | 9.8 | good |\n| 5 |  7.4 | 0.70 | 0.00 | 1.9 | 0.076 | 11 | 34 | 0.9978 | 3.51 | 0.56 | 9.4 | bad  |\n| 6 |  7.4 | 0.66 | 0.00 | 1.8 | 0.075 | 13 | 40 | 0.9978 | 3.51 | 0.56 | 9.4 | bad  |\n\n",
            "text/latex": "A data.frame: 6 × 12\n\\begin{tabular}{r|llllllllllll}\n  & fixed.acidity & volatile.acidity & citric.acid & residual.sugar & chlorides & free.sulfur.dioxide & total.sulfur.dioxide & density & pH & sulphates & alcohol & quality\\\\\n  & <dbl> & <dbl> & <dbl> & <dbl> & <dbl> & <dbl> & <dbl> & <dbl> & <dbl> & <dbl> & <dbl> & <chr>\\\\\n\\hline\n\t1 &  7.4 & 0.70 & 0.00 & 1.9 & 0.076 & 11 & 34 & 0.9978 & 3.51 & 0.56 & 9.4 & bad \\\\\n\t2 &  7.8 & 0.88 & 0.00 & 2.6 & 0.098 & 25 & 67 & 0.9968 & 3.20 & 0.68 & 9.8 & bad \\\\\n\t3 &  7.8 & 0.76 & 0.04 & 2.3 & 0.092 & 15 & 54 & 0.9970 & 3.26 & 0.65 & 9.8 & bad \\\\\n\t4 & 11.2 & 0.28 & 0.56 & 1.9 & 0.075 & 17 & 60 & 0.9980 & 3.16 & 0.58 & 9.8 & good\\\\\n\t5 &  7.4 & 0.70 & 0.00 & 1.9 & 0.076 & 11 & 34 & 0.9978 & 3.51 & 0.56 & 9.4 & bad \\\\\n\t6 &  7.4 & 0.66 & 0.00 & 1.8 & 0.075 & 13 & 40 & 0.9978 & 3.51 & 0.56 & 9.4 & bad \\\\\n\\end{tabular}\n",
            "text/plain": [
              "  fixed.acidity volatile.acidity citric.acid residual.sugar chlorides\n",
              "1  7.4          0.70             0.00        1.9            0.076    \n",
              "2  7.8          0.88             0.00        2.6            0.098    \n",
              "3  7.8          0.76             0.04        2.3            0.092    \n",
              "4 11.2          0.28             0.56        1.9            0.075    \n",
              "5  7.4          0.70             0.00        1.9            0.076    \n",
              "6  7.4          0.66             0.00        1.8            0.075    \n",
              "  free.sulfur.dioxide total.sulfur.dioxide density pH   sulphates alcohol\n",
              "1 11                  34                   0.9978  3.51 0.56      9.4    \n",
              "2 25                  67                   0.9968  3.20 0.68      9.8    \n",
              "3 15                  54                   0.9970  3.26 0.65      9.8    \n",
              "4 17                  60                   0.9980  3.16 0.58      9.8    \n",
              "5 11                  34                   0.9978  3.51 0.56      9.4    \n",
              "6 13                  40                   0.9978  3.51 0.56      9.4    \n",
              "  quality\n",
              "1 bad    \n",
              "2 bad    \n",
              "3 bad    \n",
              "4 good   \n",
              "5 bad    \n",
              "6 bad    "
            ]
          },
          "metadata": {}
        }
      ]
    },
    {
      "cell_type": "code",
      "source": [
        "# Obtener la estructura de los datos\n",
        "str(princess_df)\n",
        "str(wine_df)\n",
        "\n",
        "# OBSERVACION: Verificando la observacion anterior vemos que el 2° dataframe tiene 12 columnas y un total de 1599 filas. Mientras\n",
        "## que el 1° tiene 14 columnas y 2338 filas."
      ],
      "metadata": {
        "colab": {
          "base_uri": "https://localhost:8080/"
        },
        "id": "8t0BBd5HHWlj",
        "outputId": "12ac8d9e-8713-4222-e63a-9a2b05081d90"
      },
      "execution_count": 7,
      "outputs": [
        {
          "output_type": "stream",
          "name": "stdout",
          "text": [
            "'data.frame':\t2338 obs. of  14 variables:\n",
            " $ Phoenix.Feather: num  2.4 2.1 17.2 8.4 22.1 21.9 30 16.4 28.4 11.8 ...\n",
            " $ Unicorn.Horn   : num  18.7 6 13.9 9.7 10.8 5.5 8.6 12.1 18.9 17.7 ...\n",
            " $ Dragon.s.Blood : num  18.4 15 23.8 6.8 16.4 11.5 29.1 14.2 30.3 8.8 ...\n",
            " $ Mermaid.Tears  : num  27.9 13.3 6.8 26.9 10.5 5 26 22 5.6 22.9 ...\n",
            " $ Fairy.Dust     : num  7.9 15.6 10.7 4.6 22 27.9 18.6 15.6 18 6.1 ...\n",
            " $ Goblin.Toes    : num  9.6 13.1 15.8 29.1 23.4 20.9 13.8 10.4 9.9 5.8 ...\n",
            " $ Witch.s.Brew   : num  18.3 11 19.4 14.6 2.6 20.5 3.8 11.7 6.2 15.7 ...\n",
            " $ Griffin.Claw   : num  13.2 5 2.7 19.7 18.2 22.7 19.1 18.4 24.4 2.6 ...\n",
            " $ Troll.Hair     : num  2.5 7.2 15.4 18 23.8 33.9 42.3 21 14.4 16.5 ...\n",
            " $ Kraken.Ink     : num  26 26 21.2 20.8 11.3 7.4 17.3 20.3 2.7 23.7 ...\n",
            " $ Minotaur.Horn  : num  10.5 1.5 11.1 13.6 5.5 3.6 16.8 4 15.1 25.2 ...\n",
            " $ Basilisk.Scale : num  26.2 13.3 16.6 13.9 16.8 38.4 16.3 15.7 41.6 1.7 ...\n",
            " $ Chimera.Fang   : num  12.5 6.2 11.4 8.1 16.2 5.2 4.5 15.3 7 1.1 ...\n",
            " $ Cured          : int  0 0 1 1 0 1 1 0 0 1 ...\n",
            "'data.frame':\t1599 obs. of  12 variables:\n",
            " $ fixed.acidity       : num  7.4 7.8 7.8 11.2 7.4 7.4 7.9 7.3 7.8 7.5 ...\n",
            " $ volatile.acidity    : num  0.7 0.88 0.76 0.28 0.7 0.66 0.6 0.65 0.58 0.5 ...\n",
            " $ citric.acid         : num  0 0 0.04 0.56 0 0 0.06 0 0.02 0.36 ...\n",
            " $ residual.sugar      : num  1.9 2.6 2.3 1.9 1.9 1.8 1.6 1.2 2 6.1 ...\n",
            " $ chlorides           : num  0.076 0.098 0.092 0.075 0.076 0.075 0.069 0.065 0.073 0.071 ...\n",
            " $ free.sulfur.dioxide : num  11 25 15 17 11 13 15 15 9 17 ...\n",
            " $ total.sulfur.dioxide: num  34 67 54 60 34 40 59 21 18 102 ...\n",
            " $ density             : num  0.998 0.997 0.997 0.998 0.998 ...\n",
            " $ pH                  : num  3.51 3.2 3.26 3.16 3.51 3.51 3.3 3.39 3.36 3.35 ...\n",
            " $ sulphates           : num  0.56 0.68 0.65 0.58 0.56 0.56 0.46 0.47 0.57 0.8 ...\n",
            " $ alcohol             : num  9.4 9.8 9.8 9.8 9.4 9.4 9.4 10 9.5 10.5 ...\n",
            " $ quality             : chr  \"bad\" \"bad\" \"bad\" \"good\" ...\n"
          ]
        }
      ]
    },
    {
      "cell_type": "code",
      "source": [
        "#Resumen estadístico para cada columna\n",
        "summary(princess_df)\n",
        "summary(wine_df)\n",
        "\n",
        "# OBSERVACION: Aqui para ambos dataframes se observan las estadisticas correspondientes; En cuanto al primer dataframe\n",
        "## no hay algo que me pareza extraño por ejemplo podria analizar valores min o max para dedos de los pies de duendes, pero\n",
        "### al no tener mas informacion no puedo asegurar nada; En cuanto al segundo dataframe puedo observar valores normales y\n",
        "#### mas familiares para mi."
      ],
      "metadata": {
        "colab": {
          "base_uri": "https://localhost:8080/",
          "height": 921
        },
        "id": "P_zNUZ62HXJc",
        "outputId": "112fa8d6-81bd-4996-e0a6-57f0aebde14e"
      },
      "execution_count": 8,
      "outputs": [
        {
          "output_type": "display_data",
          "data": {
            "text/plain": [
              " Phoenix.Feather  Unicorn.Horn   Dragon.s.Blood  Mermaid.Tears  \n",
              " Min.   : 1.00   Min.   : 1.00   Min.   : 1.00   Min.   : 1.00  \n",
              " 1st Qu.: 8.50   1st Qu.: 5.30   1st Qu.: 9.60   1st Qu.: 7.60  \n",
              " Median :14.70   Median : 9.50   Median :15.80   Median :13.10  \n",
              " Mean   :15.37   Mean   :10.95   Mean   :16.12   Mean   :13.63  \n",
              " 3rd Qu.:21.30   3rd Qu.:15.57   3rd Qu.:22.00   3rd Qu.:19.00  \n",
              " Max.   :42.10   Max.   :34.10   Max.   :40.80   Max.   :35.80  \n",
              "   Fairy.Dust      Goblin.Toes     Witch.s.Brew     Griffin.Claw  \n",
              " Min.   : 1.000   Min.   : 1.00   Min.   : 1.000   Min.   : 1.00  \n",
              " 1st Qu.: 8.625   1st Qu.: 7.90   1st Qu.: 6.325   1st Qu.: 8.40  \n",
              " Median :14.500   Median :13.50   Median :11.200   Median :14.40  \n",
              " Mean   :15.069   Mean   :14.16   Mean   :12.329   Mean   :14.91  \n",
              " 3rd Qu.:20.700   3rd Qu.:19.50   3rd Qu.:16.900   3rd Qu.:20.50  \n",
              " Max.   :40.400   Max.   :37.80   Max.   :37.300   Max.   :39.40  \n",
              "   Troll.Hair      Kraken.Ink    Minotaur.Horn   Basilisk.Scale \n",
              " Min.   : 1.00   Min.   : 1.00   Min.   : 1.00   Min.   : 1.00  \n",
              " 1st Qu.: 8.90   1st Qu.: 8.80   1st Qu.: 5.20   1st Qu.: 8.80  \n",
              " Median :16.30   Median :14.40   Median : 9.70   Median :14.80  \n",
              " Mean   :16.87   Mean   :14.89   Mean   :10.92   Mean   :15.37  \n",
              " 3rd Qu.:24.00   3rd Qu.:20.40   3rd Qu.:15.38   3rd Qu.:21.10  \n",
              " Max.   :44.80   Max.   :39.50   Max.   :33.70   Max.   :42.00  \n",
              "  Chimera.Fang       Cured       \n",
              " Min.   : 1.00   Min.   :0.0000  \n",
              " 1st Qu.: 5.60   1st Qu.:0.0000  \n",
              " Median :10.50   Median :0.0000  \n",
              " Mean   :12.08   Mean   :0.4966  \n",
              " 3rd Qu.:17.27   3rd Qu.:1.0000  \n",
              " Max.   :37.80   Max.   :1.0000  "
            ]
          },
          "metadata": {}
        },
        {
          "output_type": "display_data",
          "data": {
            "text/plain": [
              " fixed.acidity   volatile.acidity  citric.acid    residual.sugar  \n",
              " Min.   : 4.60   Min.   :0.1200   Min.   :0.000   Min.   : 0.900  \n",
              " 1st Qu.: 7.10   1st Qu.:0.3900   1st Qu.:0.090   1st Qu.: 1.900  \n",
              " Median : 7.90   Median :0.5200   Median :0.260   Median : 2.200  \n",
              " Mean   : 8.32   Mean   :0.5278   Mean   :0.271   Mean   : 2.539  \n",
              " 3rd Qu.: 9.20   3rd Qu.:0.6400   3rd Qu.:0.420   3rd Qu.: 2.600  \n",
              " Max.   :15.90   Max.   :1.5800   Max.   :1.000   Max.   :15.500  \n",
              "   chlorides       free.sulfur.dioxide total.sulfur.dioxide    density      \n",
              " Min.   :0.01200   Min.   : 1.00       Min.   :  6.00       Min.   :0.9901  \n",
              " 1st Qu.:0.07000   1st Qu.: 7.00       1st Qu.: 22.00       1st Qu.:0.9956  \n",
              " Median :0.07900   Median :14.00       Median : 38.00       Median :0.9968  \n",
              " Mean   :0.08747   Mean   :15.87       Mean   : 46.47       Mean   :0.9967  \n",
              " 3rd Qu.:0.09000   3rd Qu.:21.00       3rd Qu.: 62.00       3rd Qu.:0.9978  \n",
              " Max.   :0.61100   Max.   :72.00       Max.   :289.00       Max.   :1.0037  \n",
              "       pH          sulphates         alcohol        quality         \n",
              " Min.   :2.740   Min.   :0.3300   Min.   : 8.40   Length:1599       \n",
              " 1st Qu.:3.210   1st Qu.:0.5500   1st Qu.: 9.50   Class :character  \n",
              " Median :3.310   Median :0.6200   Median :10.20   Mode  :character  \n",
              " Mean   :3.311   Mean   :0.6581   Mean   :10.42                     \n",
              " 3rd Qu.:3.400   3rd Qu.:0.7300   3rd Qu.:11.10                     \n",
              " Max.   :4.010   Max.   :2.0000   Max.   :14.90                     "
            ]
          },
          "metadata": {}
        }
      ]
    },
    {
      "cell_type": "code",
      "source": [
        "#Numero de filas y columnas\n",
        "nrow(princess_df)\n",
        "ncol(princess_df)\n",
        "\n",
        "nrow(wine_df)\n",
        "ncol(wine_df)"
      ],
      "metadata": {
        "colab": {
          "base_uri": "https://localhost:8080/",
          "height": 86
        },
        "id": "DXq-91qcHh3K",
        "outputId": "62f990b0-d1c2-4c4c-d0a4-730da6d8ae73"
      },
      "execution_count": 9,
      "outputs": [
        {
          "output_type": "display_data",
          "data": {
            "text/html": [
              "2338"
            ],
            "text/markdown": "2338",
            "text/latex": "2338",
            "text/plain": [
              "[1] 2338"
            ]
          },
          "metadata": {}
        },
        {
          "output_type": "display_data",
          "data": {
            "text/html": [
              "14"
            ],
            "text/markdown": "14",
            "text/latex": "14",
            "text/plain": [
              "[1] 14"
            ]
          },
          "metadata": {}
        },
        {
          "output_type": "display_data",
          "data": {
            "text/html": [
              "1599"
            ],
            "text/markdown": "1599",
            "text/latex": "1599",
            "text/plain": [
              "[1] 1599"
            ]
          },
          "metadata": {}
        },
        {
          "output_type": "display_data",
          "data": {
            "text/html": [
              "12"
            ],
            "text/markdown": "12",
            "text/latex": "12",
            "text/plain": [
              "[1] 12"
            ]
          },
          "metadata": {}
        }
      ]
    },
    {
      "cell_type": "markdown",
      "source": [
        "#4. Elección del dataset y justificación\n",
        "\n"
      ],
      "metadata": {
        "id": "uZpAqjVrVcgk"
      }
    },
    {
      "cell_type": "markdown",
      "source": [
        "Mi elección entre \"princess\" y \"wine\" va a ser por el segundo, ya que los variables que se utilizan me resultan más familiares y por ende puedo hacer un análisis de cada una con mas facilidad. Además, la cantidad de datos del segundo es menor, tanto en cantidad de variables como en cantidad de observaciones. Por último analizando el label del primero observo que es de tipo continuo, es decir un rango de valores que va desde el 0 al 1 refiriéndose al grado de efectividad de los componentes, en conjunto, esto implicaría establecer un punto medio; por lo cual optare por el segundo dataframe \"wine\" ya que su label es de tipo categórico y con hacer un pasaje a tipo numérico, podre trabajar con él sin problemas."
      ],
      "metadata": {
        "id": "JyrIha4PWmrN"
      }
    },
    {
      "cell_type": "markdown",
      "source": [
        "# 5. Si fuera necesario imputar valores faltantes, tratar outliers y valores duplicados."
      ],
      "metadata": {
        "id": "Aq5AilXvcU1J"
      }
    },
    {
      "cell_type": "markdown",
      "source": [
        "Verifico si hay valores faltantes en cada dataframe"
      ],
      "metadata": {
        "id": "_x8-dfzZeWmW"
      }
    },
    {
      "cell_type": "code",
      "source": [
        "#colSums(is.na(princess_df))\n",
        "colSums(is.na(wine_df))\n",
        "\n",
        "# OBVERVACION: En ninguno de las variables/columnas existen valores faltantes."
      ],
      "metadata": {
        "colab": {
          "base_uri": "https://localhost:8080/",
          "height": 52
        },
        "id": "zo-PwlBI-mwh",
        "outputId": "6c579c3c-5f0c-44f4-ba48-9c779991a2c9"
      },
      "execution_count": 10,
      "outputs": [
        {
          "output_type": "display_data",
          "data": {
            "text/html": [
              "<style>\n",
              ".dl-inline {width: auto; margin:0; padding: 0}\n",
              ".dl-inline>dt, .dl-inline>dd {float: none; width: auto; display: inline-block}\n",
              ".dl-inline>dt::after {content: \":\\0020\"; padding-right: .5ex}\n",
              ".dl-inline>dt:not(:first-of-type) {padding-left: .5ex}\n",
              "</style><dl class=dl-inline><dt>fixed.acidity</dt><dd>0</dd><dt>volatile.acidity</dt><dd>0</dd><dt>citric.acid</dt><dd>0</dd><dt>residual.sugar</dt><dd>0</dd><dt>chlorides</dt><dd>0</dd><dt>free.sulfur.dioxide</dt><dd>0</dd><dt>total.sulfur.dioxide</dt><dd>0</dd><dt>density</dt><dd>0</dd><dt>pH</dt><dd>0</dd><dt>sulphates</dt><dd>0</dd><dt>alcohol</dt><dd>0</dd><dt>quality</dt><dd>0</dd></dl>\n"
            ],
            "text/markdown": "fixed.acidity\n:   0volatile.acidity\n:   0citric.acid\n:   0residual.sugar\n:   0chlorides\n:   0free.sulfur.dioxide\n:   0total.sulfur.dioxide\n:   0density\n:   0pH\n:   0sulphates\n:   0alcohol\n:   0quality\n:   0\n\n",
            "text/latex": "\\begin{description*}\n\\item[fixed.acidity] 0\n\\item[volatile.acidity] 0\n\\item[citric.acid] 0\n\\item[residual.sugar] 0\n\\item[chlorides] 0\n\\item[free.sulfur.dioxide] 0\n\\item[total.sulfur.dioxide] 0\n\\item[density] 0\n\\item[pH] 0\n\\item[sulphates] 0\n\\item[alcohol] 0\n\\item[quality] 0\n\\end{description*}\n",
            "text/plain": [
              "       fixed.acidity     volatile.acidity          citric.acid \n",
              "                   0                    0                    0 \n",
              "      residual.sugar            chlorides  free.sulfur.dioxide \n",
              "                   0                    0                    0 \n",
              "total.sulfur.dioxide              density                   pH \n",
              "                   0                    0                    0 \n",
              "           sulphates              alcohol              quality \n",
              "                   0                    0                    0 "
            ]
          },
          "metadata": {}
        }
      ]
    },
    {
      "cell_type": "markdown",
      "source": [
        "Verifico outliers"
      ],
      "metadata": {
        "id": "G5Tgh6NsefTw"
      }
    },
    {
      "cell_type": "code",
      "source": [
        "# para esto voy a analizar que tan dispersos estan los datos analizando la varianza y la desviacion estandar\n",
        "varianza_columnas = apply(wine_df, 2, var)\n",
        "desviacion_columnas = apply(wine_df, 2, sd)\n",
        "#boxplot(princess_df$variable_con_outliers)"
      ],
      "metadata": {
        "colab": {
          "base_uri": "https://localhost:8080/"
        },
        "id": "cwh4wbfadoDZ",
        "outputId": "661399fe-f799-48ce-8bbf-707dfbe83ec8"
      },
      "execution_count": 11,
      "outputs": [
        {
          "output_type": "stream",
          "name": "stderr",
          "text": [
            "Warning message in FUN(newX[, i], ...):\n",
            "“NAs introduced by coercion”\n",
            "Warning message in var(if (is.vector(x) || is.factor(x)) x else as.double(x), na.rm = na.rm):\n",
            "“NAs introduced by coercion”\n"
          ]
        }
      ]
    },
    {
      "cell_type": "code",
      "source": [
        "# como me da error es necesario tranformar la variable categorica (quality) a numerica.\n",
        "wine_df$is_good = ifelse(wine_df$quality == \"good\", 1, 0)\n",
        "\n",
        "# ahora elimino la columna anterior quality\n",
        "wine_df = subset(wine_df, select = -quality)"
      ],
      "metadata": {
        "id": "-TBkLZNWgRbA"
      },
      "execution_count": 12,
      "outputs": []
    },
    {
      "cell_type": "code",
      "source": [
        "# muestro como queda el dataframe\n",
        "head(wine_df)"
      ],
      "metadata": {
        "colab": {
          "base_uri": "https://localhost:8080/",
          "height": 286
        },
        "id": "PCv0df08jSjY",
        "outputId": "d8174b2e-b10a-4e67-836d-63752e9b0598"
      },
      "execution_count": 13,
      "outputs": [
        {
          "output_type": "display_data",
          "data": {
            "text/html": [
              "<table class=\"dataframe\">\n",
              "<caption>A data.frame: 6 × 12</caption>\n",
              "<thead>\n",
              "\t<tr><th></th><th scope=col>fixed.acidity</th><th scope=col>volatile.acidity</th><th scope=col>citric.acid</th><th scope=col>residual.sugar</th><th scope=col>chlorides</th><th scope=col>free.sulfur.dioxide</th><th scope=col>total.sulfur.dioxide</th><th scope=col>density</th><th scope=col>pH</th><th scope=col>sulphates</th><th scope=col>alcohol</th><th scope=col>is_good</th></tr>\n",
              "\t<tr><th></th><th scope=col>&lt;dbl&gt;</th><th scope=col>&lt;dbl&gt;</th><th scope=col>&lt;dbl&gt;</th><th scope=col>&lt;dbl&gt;</th><th scope=col>&lt;dbl&gt;</th><th scope=col>&lt;dbl&gt;</th><th scope=col>&lt;dbl&gt;</th><th scope=col>&lt;dbl&gt;</th><th scope=col>&lt;dbl&gt;</th><th scope=col>&lt;dbl&gt;</th><th scope=col>&lt;dbl&gt;</th><th scope=col>&lt;dbl&gt;</th></tr>\n",
              "</thead>\n",
              "<tbody>\n",
              "\t<tr><th scope=row>1</th><td> 7.4</td><td>0.70</td><td>0.00</td><td>1.9</td><td>0.076</td><td>11</td><td>34</td><td>0.9978</td><td>3.51</td><td>0.56</td><td>9.4</td><td>0</td></tr>\n",
              "\t<tr><th scope=row>2</th><td> 7.8</td><td>0.88</td><td>0.00</td><td>2.6</td><td>0.098</td><td>25</td><td>67</td><td>0.9968</td><td>3.20</td><td>0.68</td><td>9.8</td><td>0</td></tr>\n",
              "\t<tr><th scope=row>3</th><td> 7.8</td><td>0.76</td><td>0.04</td><td>2.3</td><td>0.092</td><td>15</td><td>54</td><td>0.9970</td><td>3.26</td><td>0.65</td><td>9.8</td><td>0</td></tr>\n",
              "\t<tr><th scope=row>4</th><td>11.2</td><td>0.28</td><td>0.56</td><td>1.9</td><td>0.075</td><td>17</td><td>60</td><td>0.9980</td><td>3.16</td><td>0.58</td><td>9.8</td><td>1</td></tr>\n",
              "\t<tr><th scope=row>5</th><td> 7.4</td><td>0.70</td><td>0.00</td><td>1.9</td><td>0.076</td><td>11</td><td>34</td><td>0.9978</td><td>3.51</td><td>0.56</td><td>9.4</td><td>0</td></tr>\n",
              "\t<tr><th scope=row>6</th><td> 7.4</td><td>0.66</td><td>0.00</td><td>1.8</td><td>0.075</td><td>13</td><td>40</td><td>0.9978</td><td>3.51</td><td>0.56</td><td>9.4</td><td>0</td></tr>\n",
              "</tbody>\n",
              "</table>\n"
            ],
            "text/markdown": "\nA data.frame: 6 × 12\n\n| <!--/--> | fixed.acidity &lt;dbl&gt; | volatile.acidity &lt;dbl&gt; | citric.acid &lt;dbl&gt; | residual.sugar &lt;dbl&gt; | chlorides &lt;dbl&gt; | free.sulfur.dioxide &lt;dbl&gt; | total.sulfur.dioxide &lt;dbl&gt; | density &lt;dbl&gt; | pH &lt;dbl&gt; | sulphates &lt;dbl&gt; | alcohol &lt;dbl&gt; | is_good &lt;dbl&gt; |\n|---|---|---|---|---|---|---|---|---|---|---|---|---|\n| 1 |  7.4 | 0.70 | 0.00 | 1.9 | 0.076 | 11 | 34 | 0.9978 | 3.51 | 0.56 | 9.4 | 0 |\n| 2 |  7.8 | 0.88 | 0.00 | 2.6 | 0.098 | 25 | 67 | 0.9968 | 3.20 | 0.68 | 9.8 | 0 |\n| 3 |  7.8 | 0.76 | 0.04 | 2.3 | 0.092 | 15 | 54 | 0.9970 | 3.26 | 0.65 | 9.8 | 0 |\n| 4 | 11.2 | 0.28 | 0.56 | 1.9 | 0.075 | 17 | 60 | 0.9980 | 3.16 | 0.58 | 9.8 | 1 |\n| 5 |  7.4 | 0.70 | 0.00 | 1.9 | 0.076 | 11 | 34 | 0.9978 | 3.51 | 0.56 | 9.4 | 0 |\n| 6 |  7.4 | 0.66 | 0.00 | 1.8 | 0.075 | 13 | 40 | 0.9978 | 3.51 | 0.56 | 9.4 | 0 |\n\n",
            "text/latex": "A data.frame: 6 × 12\n\\begin{tabular}{r|llllllllllll}\n  & fixed.acidity & volatile.acidity & citric.acid & residual.sugar & chlorides & free.sulfur.dioxide & total.sulfur.dioxide & density & pH & sulphates & alcohol & is\\_good\\\\\n  & <dbl> & <dbl> & <dbl> & <dbl> & <dbl> & <dbl> & <dbl> & <dbl> & <dbl> & <dbl> & <dbl> & <dbl>\\\\\n\\hline\n\t1 &  7.4 & 0.70 & 0.00 & 1.9 & 0.076 & 11 & 34 & 0.9978 & 3.51 & 0.56 & 9.4 & 0\\\\\n\t2 &  7.8 & 0.88 & 0.00 & 2.6 & 0.098 & 25 & 67 & 0.9968 & 3.20 & 0.68 & 9.8 & 0\\\\\n\t3 &  7.8 & 0.76 & 0.04 & 2.3 & 0.092 & 15 & 54 & 0.9970 & 3.26 & 0.65 & 9.8 & 0\\\\\n\t4 & 11.2 & 0.28 & 0.56 & 1.9 & 0.075 & 17 & 60 & 0.9980 & 3.16 & 0.58 & 9.8 & 1\\\\\n\t5 &  7.4 & 0.70 & 0.00 & 1.9 & 0.076 & 11 & 34 & 0.9978 & 3.51 & 0.56 & 9.4 & 0\\\\\n\t6 &  7.4 & 0.66 & 0.00 & 1.8 & 0.075 & 13 & 40 & 0.9978 & 3.51 & 0.56 & 9.4 & 0\\\\\n\\end{tabular}\n",
            "text/plain": [
              "  fixed.acidity volatile.acidity citric.acid residual.sugar chlorides\n",
              "1  7.4          0.70             0.00        1.9            0.076    \n",
              "2  7.8          0.88             0.00        2.6            0.098    \n",
              "3  7.8          0.76             0.04        2.3            0.092    \n",
              "4 11.2          0.28             0.56        1.9            0.075    \n",
              "5  7.4          0.70             0.00        1.9            0.076    \n",
              "6  7.4          0.66             0.00        1.8            0.075    \n",
              "  free.sulfur.dioxide total.sulfur.dioxide density pH   sulphates alcohol\n",
              "1 11                  34                   0.9978  3.51 0.56      9.4    \n",
              "2 25                  67                   0.9968  3.20 0.68      9.8    \n",
              "3 15                  54                   0.9970  3.26 0.65      9.8    \n",
              "4 17                  60                   0.9980  3.16 0.58      9.8    \n",
              "5 11                  34                   0.9978  3.51 0.56      9.4    \n",
              "6 13                  40                   0.9978  3.51 0.56      9.4    \n",
              "  is_good\n",
              "1 0      \n",
              "2 0      \n",
              "3 0      \n",
              "4 1      \n",
              "5 0      \n",
              "6 0      "
            ]
          },
          "metadata": {}
        }
      ]
    },
    {
      "cell_type": "code",
      "source": [
        "# Volvemos Calcular la varianza y la desviación estándar para cada columna en el DataFrame wine_df\n",
        "varianzas <- apply(wine_df, 2, var) # Calcula la varianza para cada columna\n",
        "desviaciones_estandar <- apply(wine_df, 2, sd) # Calcula la desviación estándar para cada columna\n",
        "\n",
        "# Mostrar los resultados\n",
        "names(varianzas) <- colnames(wine_df) # Asignar nombres de columnas a las varianzas\n",
        "names(desviaciones_estandar) <- colnames(wine_df) # Asignar nombres de columnas a las desviaciones estándar\n",
        "\n",
        "# Mostrar resultados de varianzas\n",
        "cat(\"Varianzas:\\n\")\n",
        "print(varianzas)\n",
        "\n",
        "# Mostrar resultados de desviaciones estándar\n",
        "cat(\"\\nDesviaciones estándar:\\n\")\n",
        "print(desviaciones_estandar)\n",
        "\n",
        "#OBSERVACION: analizando las desviaciones y las varianzas se observa que \"total.sulfur.dioxide\" y \"free.sulfur.dioxide\" son las variables\n",
        "## que mayor desviacion estandar tienen, esto indica que los datos estan mas dispersos, por ende es posible que exitan valores outliers en estas columnas.\n"
      ],
      "metadata": {
        "colab": {
          "base_uri": "https://localhost:8080/"
        },
        "id": "FEswdiGMjrzA",
        "outputId": "69f6fafe-c6d5-4439-df1b-49f1c3b9fc29"
      },
      "execution_count": 14,
      "outputs": [
        {
          "output_type": "stream",
          "name": "stdout",
          "text": [
            "Varianzas:\n",
            "       fixed.acidity     volatile.acidity          citric.acid \n",
            "        3.031416e+00         3.206238e-02         3.794748e-02 \n",
            "      residual.sugar            chlorides  free.sulfur.dioxide \n",
            "        1.987897e+00         2.215143e-03         1.094149e+02 \n",
            "total.sulfur.dioxide              density                   pH \n",
            "        1.082102e+03         3.562029e-06         2.383518e-02 \n",
            "           sulphates              alcohol              is_good \n",
            "        2.873262e-02         1.135647e+00         2.489510e-01 \n",
            "\n",
            "Desviaciones estándar:\n",
            "       fixed.acidity     volatile.acidity          citric.acid \n",
            "         1.741096318          0.179059704          0.194801137 \n",
            "      residual.sugar            chlorides  free.sulfur.dioxide \n",
            "         1.409928060          0.047065302         10.460156970 \n",
            "total.sulfur.dioxide              density                   pH \n",
            "        32.895324478          0.001887334          0.154386465 \n",
            "           sulphates              alcohol              is_good \n",
            "         0.169506980          1.065667582          0.498949861 \n"
          ]
        }
      ]
    },
    {
      "cell_type": "code",
      "source": [
        "# Crear un boxplot para la columna \"total.sulfur.dioxide\"\n",
        "boxplot(wine_df$total.sulfur.dioxide,\n",
        "        main = \"Diagrama de Boxplot para total.sulfur.dioxide\",\n",
        "        ylab = \"Valores de total.sulfur.dioxide\")\n",
        "\n",
        "# Crear un boxplot para la columna \"free.sulfur.dioxide\"\n",
        "boxplot(wine_df$free.sulfur.dioxide,\n",
        "        main = \"Diagrama de Boxplot para free.sulfur.dioxide\",\n",
        "        ylab = \"Valores de free.sulfur.dioxide\")\n",
        "\n",
        "# OBSERVACION:mediante el grafico de boxplot podemos observar que efectivamente\n",
        "## existen valores atipicos, los cuales sera necesario eliminar."
      ],
      "metadata": {
        "colab": {
          "base_uri": "https://localhost:8080/",
          "height": 857
        },
        "id": "DxAJoE5NlPA6",
        "outputId": "d67bc3f6-a706-4829-a687-a1d8a4642867"
      },
      "execution_count": 15,
      "outputs": [
        {
          "output_type": "display_data",
          "data": {
            "text/plain": [
              "Plot with title “Diagrama de Boxplot para total.sulfur.dioxide”"
            ],
            "image/png": "[encoded data removed]"
          },
          "metadata": {
            "image/png": {
              "width": 420,
              "height": 420
            }
          }
        },
        {
          "output_type": "display_data",
          "data": {
            "text/plain": [
              "Plot with title “Diagrama de Boxplot para free.sulfur.dioxide”"
            ],
            "image/png": "[encoded data removed]"
          },
          "metadata": {
            "image/png": {
              "width": 420,
              "height": 420
            }
          }
        }
      ]
    },
    {
      "cell_type": "markdown",
      "source": [
        "ELIMINAMOS OUTLIERS"
      ],
      "metadata": {
        "id": "zJhFcvFYmpVJ"
      }
    },
    {
      "cell_type": "code",
      "source": [
        "# Calcular el rango intercuartílico (IQR) de la columna \"free.sulfur.dioxide\"\n",
        "Q1_free <- quantile(wine_df$free.sulfur.dioxide, 0.25)\n",
        "Q3_free <- quantile(wine_df$free.sulfur.dioxide, 0.75)\n",
        "IQR_value_free <- Q3_free - Q1_free\n",
        "\n",
        "# Definir los límites para identificar los valores atípicos en \"free.sulfur.dioxide\"\n",
        "lower_limit_free <- Q1_free - 1.5 * IQR_value_free\n",
        "upper_limit_free <- Q3_free + 1.5 * IQR_value_free\n",
        "\n",
        "# Crear un nuevo DataFrame sin valores atípicos en la columna \"free.sulfur.dioxide\"\n",
        "wine_df_sin_outliers_free <- wine_df[wine_df$free.sulfur.dioxide >= lower_limit_free & wine_df$free.sulfur.dioxide <= upper_limit_free, ]\n",
        "\n",
        "# Calcular el rango intercuartílico (IQR) de la columna \"total.sulfur.dioxide\"\n",
        "Q1_total <- quantile(wine_df$total.sulfur.dioxide, 0.25)\n",
        "Q3_total <- quantile(wine_df$total.sulfur.dioxide, 0.75)\n",
        "IQR_value_total <- Q3_total - Q1_total\n",
        "\n",
        "# Definir los límites para identificar los valores atípicos en \"total.sulfur.dioxide\"\n",
        "lower_limit_total <- Q1_total - 1.5 * IQR_value_total\n",
        "upper_limit_total <- Q3_total + 1.5 * IQR_value_total\n",
        "\n",
        "# Crear un nuevo DataFrame sin valores atípicos en la columna \"total.sulfur.dioxide\"\n",
        "wine_df_sin_outliers_total <- wine_df[wine_df$total.sulfur.dioxide >= lower_limit_total & wine_df$total.sulfur.dioxide <= upper_limit_total, ]\n"
      ],
      "metadata": {
        "id": "DhVoDT2kmkwC"
      },
      "execution_count": 16,
      "outputs": []
    },
    {
      "cell_type": "code",
      "source": [
        "#Comparo la cantidad de observaciones\n",
        "nrow(wine_df)\n",
        "nrow(wine_df_sin_outliers_total)"
      ],
      "metadata": {
        "colab": {
          "base_uri": "https://localhost:8080/",
          "height": 52
        },
        "id": "YRWl5e0aogNR",
        "outputId": "bae8405f-f80f-4f92-f15e-c056b4ac747a"
      },
      "execution_count": 17,
      "outputs": [
        {
          "output_type": "display_data",
          "data": {
            "text/html": [
              "1599"
            ],
            "text/markdown": "1599",
            "text/latex": "1599",
            "text/plain": [
              "[1] 1599"
            ]
          },
          "metadata": {}
        },
        {
          "output_type": "display_data",
          "data": {
            "text/html": [
              "1544"
            ],
            "text/markdown": "1544",
            "text/latex": "1544",
            "text/plain": [
              "[1] 1544"
            ]
          },
          "metadata": {}
        }
      ]
    },
    {
      "cell_type": "code",
      "source": [
        "head(wine_df_sin_outliers_total)"
      ],
      "metadata": {
        "colab": {
          "base_uri": "https://localhost:8080/",
          "height": 286
        },
        "id": "ylzr5iXapIfp",
        "outputId": "a1e01411-a1fa-451b-bcf9-6f5806e1c74e"
      },
      "execution_count": 18,
      "outputs": [
        {
          "output_type": "display_data",
          "data": {
            "text/html": [
              "<table class=\"dataframe\">\n",
              "<caption>A data.frame: 6 × 12</caption>\n",
              "<thead>\n",
              "\t<tr><th></th><th scope=col>fixed.acidity</th><th scope=col>volatile.acidity</th><th scope=col>citric.acid</th><th scope=col>residual.sugar</th><th scope=col>chlorides</th><th scope=col>free.sulfur.dioxide</th><th scope=col>total.sulfur.dioxide</th><th scope=col>density</th><th scope=col>pH</th><th scope=col>sulphates</th><th scope=col>alcohol</th><th scope=col>is_good</th></tr>\n",
              "\t<tr><th></th><th scope=col>&lt;dbl&gt;</th><th scope=col>&lt;dbl&gt;</th><th scope=col>&lt;dbl&gt;</th><th scope=col>&lt;dbl&gt;</th><th scope=col>&lt;dbl&gt;</th><th scope=col>&lt;dbl&gt;</th><th scope=col>&lt;dbl&gt;</th><th scope=col>&lt;dbl&gt;</th><th scope=col>&lt;dbl&gt;</th><th scope=col>&lt;dbl&gt;</th><th scope=col>&lt;dbl&gt;</th><th scope=col>&lt;dbl&gt;</th></tr>\n",
              "</thead>\n",
              "<tbody>\n",
              "\t<tr><th scope=row>1</th><td> 7.4</td><td>0.70</td><td>0.00</td><td>1.9</td><td>0.076</td><td>11</td><td>34</td><td>0.9978</td><td>3.51</td><td>0.56</td><td>9.4</td><td>0</td></tr>\n",
              "\t<tr><th scope=row>2</th><td> 7.8</td><td>0.88</td><td>0.00</td><td>2.6</td><td>0.098</td><td>25</td><td>67</td><td>0.9968</td><td>3.20</td><td>0.68</td><td>9.8</td><td>0</td></tr>\n",
              "\t<tr><th scope=row>3</th><td> 7.8</td><td>0.76</td><td>0.04</td><td>2.3</td><td>0.092</td><td>15</td><td>54</td><td>0.9970</td><td>3.26</td><td>0.65</td><td>9.8</td><td>0</td></tr>\n",
              "\t<tr><th scope=row>4</th><td>11.2</td><td>0.28</td><td>0.56</td><td>1.9</td><td>0.075</td><td>17</td><td>60</td><td>0.9980</td><td>3.16</td><td>0.58</td><td>9.8</td><td>1</td></tr>\n",
              "\t<tr><th scope=row>5</th><td> 7.4</td><td>0.70</td><td>0.00</td><td>1.9</td><td>0.076</td><td>11</td><td>34</td><td>0.9978</td><td>3.51</td><td>0.56</td><td>9.4</td><td>0</td></tr>\n",
              "\t<tr><th scope=row>6</th><td> 7.4</td><td>0.66</td><td>0.00</td><td>1.8</td><td>0.075</td><td>13</td><td>40</td><td>0.9978</td><td>3.51</td><td>0.56</td><td>9.4</td><td>0</td></tr>\n",
              "</tbody>\n",
              "</table>\n"
            ],
            "text/markdown": "\nA data.frame: 6 × 12\n\n| <!--/--> | fixed.acidity &lt;dbl&gt; | volatile.acidity &lt;dbl&gt; | citric.acid &lt;dbl&gt; | residual.sugar &lt;dbl&gt; | chlorides &lt;dbl&gt; | free.sulfur.dioxide &lt;dbl&gt; | total.sulfur.dioxide &lt;dbl&gt; | density &lt;dbl&gt; | pH &lt;dbl&gt; | sulphates &lt;dbl&gt; | alcohol &lt;dbl&gt; | is_good &lt;dbl&gt; |\n|---|---|---|---|---|---|---|---|---|---|---|---|---|\n| 1 |  7.4 | 0.70 | 0.00 | 1.9 | 0.076 | 11 | 34 | 0.9978 | 3.51 | 0.56 | 9.4 | 0 |\n| 2 |  7.8 | 0.88 | 0.00 | 2.6 | 0.098 | 25 | 67 | 0.9968 | 3.20 | 0.68 | 9.8 | 0 |\n| 3 |  7.8 | 0.76 | 0.04 | 2.3 | 0.092 | 15 | 54 | 0.9970 | 3.26 | 0.65 | 9.8 | 0 |\n| 4 | 11.2 | 0.28 | 0.56 | 1.9 | 0.075 | 17 | 60 | 0.9980 | 3.16 | 0.58 | 9.8 | 1 |\n| 5 |  7.4 | 0.70 | 0.00 | 1.9 | 0.076 | 11 | 34 | 0.9978 | 3.51 | 0.56 | 9.4 | 0 |\n| 6 |  7.4 | 0.66 | 0.00 | 1.8 | 0.075 | 13 | 40 | 0.9978 | 3.51 | 0.56 | 9.4 | 0 |\n\n",
            "text/latex": "A data.frame: 6 × 12\n\\begin{tabular}{r|llllllllllll}\n  & fixed.acidity & volatile.acidity & citric.acid & residual.sugar & chlorides & free.sulfur.dioxide & total.sulfur.dioxide & density & pH & sulphates & alcohol & is\\_good\\\\\n  & <dbl> & <dbl> & <dbl> & <dbl> & <dbl> & <dbl> & <dbl> & <dbl> & <dbl> & <dbl> & <dbl> & <dbl>\\\\\n\\hline\n\t1 &  7.4 & 0.70 & 0.00 & 1.9 & 0.076 & 11 & 34 & 0.9978 & 3.51 & 0.56 & 9.4 & 0\\\\\n\t2 &  7.8 & 0.88 & 0.00 & 2.6 & 0.098 & 25 & 67 & 0.9968 & 3.20 & 0.68 & 9.8 & 0\\\\\n\t3 &  7.8 & 0.76 & 0.04 & 2.3 & 0.092 & 15 & 54 & 0.9970 & 3.26 & 0.65 & 9.8 & 0\\\\\n\t4 & 11.2 & 0.28 & 0.56 & 1.9 & 0.075 & 17 & 60 & 0.9980 & 3.16 & 0.58 & 9.8 & 1\\\\\n\t5 &  7.4 & 0.70 & 0.00 & 1.9 & 0.076 & 11 & 34 & 0.9978 & 3.51 & 0.56 & 9.4 & 0\\\\\n\t6 &  7.4 & 0.66 & 0.00 & 1.8 & 0.075 & 13 & 40 & 0.9978 & 3.51 & 0.56 & 9.4 & 0\\\\\n\\end{tabular}\n",
            "text/plain": [
              "  fixed.acidity volatile.acidity citric.acid residual.sugar chlorides\n",
              "1  7.4          0.70             0.00        1.9            0.076    \n",
              "2  7.8          0.88             0.00        2.6            0.098    \n",
              "3  7.8          0.76             0.04        2.3            0.092    \n",
              "4 11.2          0.28             0.56        1.9            0.075    \n",
              "5  7.4          0.70             0.00        1.9            0.076    \n",
              "6  7.4          0.66             0.00        1.8            0.075    \n",
              "  free.sulfur.dioxide total.sulfur.dioxide density pH   sulphates alcohol\n",
              "1 11                  34                   0.9978  3.51 0.56      9.4    \n",
              "2 25                  67                   0.9968  3.20 0.68      9.8    \n",
              "3 15                  54                   0.9970  3.26 0.65      9.8    \n",
              "4 17                  60                   0.9980  3.16 0.58      9.8    \n",
              "5 11                  34                   0.9978  3.51 0.56      9.4    \n",
              "6 13                  40                   0.9978  3.51 0.56      9.4    \n",
              "  is_good\n",
              "1 0      \n",
              "2 0      \n",
              "3 0      \n",
              "4 1      \n",
              "5 0      \n",
              "6 0      "
            ]
          },
          "metadata": {}
        }
      ]
    },
    {
      "cell_type": "code",
      "source": [
        "#vuelvo a generar boxplot para ver resultados\n",
        "# Crear un boxplot para la columna \"total.sulfur.dioxide\"\n",
        "boxplot(wine_df_sin_outliers_total$total.sulfur.dioxide,\n",
        "        main = \"Diagrama de Boxplot para total.sulfur.dioxide\",\n",
        "        ylab = \"Valores de total.sulfur.dioxide\")\n",
        "\n",
        "# Crear un boxplot para la columna \"free.sulfur.dioxide\"\n",
        "boxplot(wine_df_sin_outliers_total$free.sulfur.dioxide,\n",
        "        main = \"Diagrama de Boxplot para free.sulfur.dioxide\",\n",
        "        ylab = \"Valores de free.sulfur.dioxide\")"
      ],
      "metadata": {
        "colab": {
          "base_uri": "https://localhost:8080/",
          "height": 857
        },
        "id": "PdjLlRezovei",
        "outputId": "436cf913-f748-4350-968e-478792a35434"
      },
      "execution_count": 19,
      "outputs": [
        {
          "output_type": "display_data",
          "data": {
            "text/plain": [
              "Plot with title “Diagrama de Boxplot para total.sulfur.dioxide”"
            ],
            "image/png": "[encoded data removed]"
          },
          "metadata": {
            "image/png": {
              "width": 420,
              "height": 420
            }
          }
        },
        {
          "output_type": "display_data",
          "data": {
            "text/plain": [
              "Plot with title “Diagrama de Boxplot para free.sulfur.dioxide”"
            ],
            "image/png": "[encoded data removed]"
          },
          "metadata": {
            "image/png": {
              "width": 420,
              "height": 420
            }
          }
        }
      ]
    },
    {
      "cell_type": "code",
      "source": [
        "# Volvemos Calcular la varianza y la desviación estándar para cada columna en el DataFrame wine_df_sin_outliers_total\n",
        "varianzas <- apply(wine_df_sin_outliers_total, 2, var) # Calcula la varianza para cada columna\n",
        "desviaciones_estandar <- apply(wine_df_sin_outliers_total, 2, sd) # Calcula la desviación estándar para cada columna\n",
        "\n",
        "# Mostrar los resultados\n",
        "names(varianzas) <- colnames(wine_df_sin_outliers_total) # Asignar nombres de columnas a las varianzas\n",
        "names(desviaciones_estandar) <- colnames(wine_df_sin_outliers_total) # Asignar nombres de columnas a las desviaciones estándar\n",
        "\n",
        "# Mostrar resultados de varianzas\n",
        "cat(\"Varianzas:\\n\")\n",
        "print(varianzas)\n",
        "\n",
        "# Mostrar resultados de desviaciones estándar\n",
        "cat(\"\\nDesviaciones estándar:\\n\")\n",
        "print(desviaciones_estandar)"
      ],
      "metadata": {
        "colab": {
          "base_uri": "https://localhost:8080/"
        },
        "id": "RtYexrUep9mZ",
        "outputId": "207e36a4-3700-4f18-fe67-8502676b967b"
      },
      "execution_count": 20,
      "outputs": [
        {
          "output_type": "stream",
          "name": "stdout",
          "text": [
            "Varianzas:\n",
            "       fixed.acidity     volatile.acidity          citric.acid \n",
            "        3.100337e+00         3.183317e-02         3.841910e-02 \n",
            "      residual.sugar            chlorides  free.sulfur.dioxide \n",
            "        1.825674e+00         2.271783e-03         9.727378e+01 \n",
            "total.sulfur.dioxide              density                   pH \n",
            "        7.406452e+02         3.561062e-06         2.381245e-02 \n",
            "           sulphates              alcohol              is_good \n",
            "        2.476571e-02         1.145221e+00         2.478009e-01 \n",
            "\n",
            "Desviaciones estándar:\n",
            "       fixed.acidity     volatile.acidity          citric.acid \n",
            "         1.760777406          0.178418520          0.196007896 \n",
            "      residual.sugar            chlorides  free.sulfur.dioxide \n",
            "         1.351175166          0.047663229          9.862746879 \n",
            "total.sulfur.dioxide              density                   pH \n",
            "        27.214796803          0.001887078          0.154312817 \n",
            "           sulphates              alcohol              is_good \n",
            "         0.157371256          1.070149802          0.497796092 \n"
          ]
        }
      ]
    },
    {
      "cell_type": "code",
      "source": [
        "#Reviso estadisticas\n",
        "summary(wine_df_sin_outliers_total)"
      ],
      "metadata": {
        "colab": {
          "base_uri": "https://localhost:8080/",
          "height": 405
        },
        "id": "mFwvqivKr48q",
        "outputId": "4a2aa80b-cbb7-4037-8046-0892fd0a32e6"
      },
      "execution_count": 21,
      "outputs": [
        {
          "output_type": "display_data",
          "data": {
            "text/plain": [
              " fixed.acidity    volatile.acidity  citric.acid     residual.sugar  \n",
              " Min.   : 4.600   Min.   :0.1200   Min.   :0.0000   Min.   : 0.900  \n",
              " 1st Qu.: 7.100   1st Qu.:0.3900   1st Qu.:0.0900   1st Qu.: 1.900  \n",
              " Median : 7.900   Median :0.5200   Median :0.2500   Median : 2.200  \n",
              " Mean   : 8.329   Mean   :0.5266   Mean   :0.2690   Mean   : 2.508  \n",
              " 3rd Qu.: 9.300   3rd Qu.:0.6350   3rd Qu.:0.4225   3rd Qu.: 2.600  \n",
              " Max.   :15.900   Max.   :1.5800   Max.   :1.0000   Max.   :15.500  \n",
              "   chlorides      free.sulfur.dioxide total.sulfur.dioxide    density      \n",
              " Min.   :0.0120   Min.   : 1.00       Min.   :  6          Min.   :0.9901  \n",
              " 1st Qu.:0.0700   1st Qu.: 7.00       1st Qu.: 21          1st Qu.:0.9956  \n",
              " Median :0.0790   Median :13.00       Median : 37          Median :0.9967  \n",
              " Mean   :0.0874   Mean   :15.27       Mean   : 43          Mean   :0.9967  \n",
              " 3rd Qu.:0.0900   3rd Qu.:21.00       3rd Qu.: 59          3rd Qu.:0.9978  \n",
              " Max.   :0.6110   Max.   :66.00       Max.   :122          Max.   :1.0037  \n",
              "       pH          sulphates         alcohol         is_good      \n",
              " Min.   :2.740   Min.   :0.3300   Min.   : 8.40   Min.   :0.0000  \n",
              " 1st Qu.:3.210   1st Qu.:0.5500   1st Qu.: 9.50   1st Qu.:0.0000  \n",
              " Median :3.310   Median :0.6200   Median :10.20   Median :1.0000  \n",
              " Mean   :3.314   Mean   :0.6559   Mean   :10.44   Mean   :0.5486  \n",
              " 3rd Qu.:3.400   3rd Qu.:0.7300   3rd Qu.:11.10   3rd Qu.:1.0000  \n",
              " Max.   :4.010   Max.   :2.0000   Max.   :14.90   Max.   :1.0000  "
            ]
          },
          "metadata": {}
        }
      ]
    },
    {
      "cell_type": "code",
      "source": [
        "#probando otro metodo para eliminar valores atipicos u outliers\n",
        "\n",
        "# Calcular la media y la desviación estándar de la columna 'total.sulfur.dioxide'\n",
        "mean_val <- mean(wine_df_sin_outliers_total$total.sulfur.dioxide)\n",
        "std_dev <- sd(wine_df_sin_outliers_total$total.sulfur.dioxide)\n",
        "\n",
        "# Definir un umbral para los valores atípicos (puedes ajustar estos valores según tu criterio)\n",
        "# Por ejemplo, supongamos que consideras valores atípicos aquellos que están más allá de 1.5 desviaciones estándar de la media\n",
        "threshold <- 0.50 * std_dev\n",
        "\n",
        "# Crear un nuevo dataframe sin los valores atípicos\n",
        "df_sin_atipicos <- wine_df_sin_outliers_total[wine_df_sin_outliers_total$total.sulfur.dioxide >= mean_val - threshold & wine_df_sin_outliers_total$total.sulfur.dioxide <= mean_val + threshold, ]\n"
      ],
      "metadata": {
        "id": "qIEucT_9wx35"
      },
      "execution_count": 22,
      "outputs": []
    },
    {
      "cell_type": "code",
      "source": [
        "# Volvemos Calcular la varianza y la desviación estándar para cada columna en el DataFrame wine_df_sin_outliers_total\n",
        "varianzas <- apply(df_sin_atipicos, 2, var) # Calcula la varianza para cada columna\n",
        "desviaciones_estandar <- apply(df_sin_atipicos, 2, sd) # Calcula la desviación estándar para cada columna\n",
        "\n",
        "# Mostrar los resultados\n",
        "names(varianzas) <- colnames(df_sin_atipicos) # Asignar nombres de columnas a las varianzas\n",
        "names(desviaciones_estandar) <- colnames(df_sin_atipicos) # Asignar nombres de columnas a las desviaciones estándar\n",
        "\n",
        "# Mostrar resultados de varianzas\n",
        "cat(\"Varianzas:\\n\")\n",
        "print(varianzas)\n",
        "\n",
        "# Mostrar resultados de desviaciones estándar\n",
        "cat(\"\\nDesviaciones estándar:\\n\")\n",
        "print(desviaciones_estandar)"
      ],
      "metadata": {
        "colab": {
          "base_uri": "https://localhost:8080/"
        },
        "id": "GhoXAY8dxLZq",
        "outputId": "483db523-7824-4a79-bec3-99b2aa5fed4a"
      },
      "execution_count": 23,
      "outputs": [
        {
          "output_type": "stream",
          "name": "stdout",
          "text": [
            "Varianzas:\n",
            "       fixed.acidity     volatile.acidity          citric.acid \n",
            "        3.173193e+00         2.576155e-02         3.717163e-02 \n",
            "      residual.sugar            chlorides  free.sulfur.dioxide \n",
            "        1.060712e+00         2.385884e-03         6.255629e+01 \n",
            "total.sulfur.dioxide              density                   pH \n",
            "        5.589708e+01         3.362564e-06         2.358538e-02 \n",
            "           sulphates              alcohol              is_good \n",
            "        1.958755e-02         9.965878e-01         2.417663e-01 \n",
            "\n",
            "Desviaciones estándar:\n",
            "       fixed.acidity     volatile.acidity          citric.acid \n",
            "          1.78134573           0.16050405           0.19279945 \n",
            "      residual.sugar            chlorides  free.sulfur.dioxide \n",
            "          1.02990862           0.04884551           7.90925319 \n",
            "total.sulfur.dioxide              density                   pH \n",
            "          7.47643504           0.00183373           0.15357534 \n",
            "           sulphates              alcohol              is_good \n",
            "          0.13995551           0.99829242           0.49169738 \n"
          ]
        }
      ]
    },
    {
      "cell_type": "code",
      "source": [
        "nrow(wine_df)\n",
        "nrow(wine_df_sin_outliers_total)\n",
        "nrow(df_sin_atipicos)"
      ],
      "metadata": {
        "colab": {
          "base_uri": "https://localhost:8080/",
          "height": 69
        },
        "id": "vDsilhCVxgor",
        "outputId": "e00dd814-de13-41b6-e762-957704f7f80b"
      },
      "execution_count": 24,
      "outputs": [
        {
          "output_type": "display_data",
          "data": {
            "text/html": [
              "1599"
            ],
            "text/markdown": "1599",
            "text/latex": "1599",
            "text/plain": [
              "[1] 1599"
            ]
          },
          "metadata": {}
        },
        {
          "output_type": "display_data",
          "data": {
            "text/html": [
              "1544"
            ],
            "text/markdown": "1544",
            "text/latex": "1544",
            "text/plain": [
              "[1] 1544"
            ]
          },
          "metadata": {}
        },
        {
          "output_type": "display_data",
          "data": {
            "text/html": [
              "509"
            ],
            "text/markdown": "509",
            "text/latex": "509",
            "text/plain": [
              "[1] 509"
            ]
          },
          "metadata": {}
        }
      ]
    },
    {
      "cell_type": "code",
      "source": [
        "boxplot(df_sin_atipicos$total.sulfur.dioxide,\n",
        "        main = \"Diagrama de Boxplot para total.sulfur.dioxide\",\n",
        "        ylab = \"Valores de total.sulfur.dioxide\")\n",
        "\n",
        "# Crear un boxplot para la columna \"free.sulfur.dioxide\"\n",
        "boxplot(df_sin_atipicos$free.sulfur.dioxide,\n",
        "        main = \"Diagrama de Boxplot para free.sulfur.dioxide\",\n",
        "        ylab = \"Valores de free.sulfur.dioxide\")"
      ],
      "metadata": {
        "colab": {
          "base_uri": "https://localhost:8080/",
          "height": 857
        },
        "id": "KLKE-gFBx1vT",
        "outputId": "21ac7442-f163-431a-f25f-c6fa973f0f6a"
      },
      "execution_count": 25,
      "outputs": [
        {
          "output_type": "display_data",
          "data": {
            "text/plain": [
              "Plot with title “Diagrama de Boxplot para total.sulfur.dioxide”"
            ],
            "image/png": "[encoded data removed]"
          },
          "metadata": {
            "image/png": {
              "width": 420,
              "height": 420
            }
          }
        },
        {
          "output_type": "display_data",
          "data": {
            "text/plain": [
              "Plot with title “Diagrama de Boxplot para free.sulfur.dioxide”"
            ],
            "image/png": "[encoded data removed]"
          },
          "metadata": {
            "image/png": {
              "width": 420,
              "height": 420
            }
          }
        }
      ]
    },
    {
      "cell_type": "markdown",
      "source": [
        "OBSERVACION: Noto que los valores se corresponden con los graficos de boxplot.\n",
        "Luego de varias prueba decido eliminar las columnas free.sulfur.dioxide y total.sulfur.dioxide\n",
        "ya que tienen una desviacion demasiada alta a pesar de haber aplicado metodos para eliminar outliers, ademas si elimino los valores atipicos la cantidad\n",
        "de observaciones se reduciria bastante."
      ],
      "metadata": {
        "id": "xI-PlsWnyr1D"
      }
    },
    {
      "cell_type": "code",
      "source": [
        "#ELIMINO free.sulfur.dioxide y total.sulfur.dioxide\n",
        "wine_df_sin_cols <- subset(wine_df_sin_outliers_total, select = -c(total.sulfur.dioxide, free.sulfur.dioxide))\n"
      ],
      "metadata": {
        "id": "eYU4lz6bzARC"
      },
      "execution_count": 26,
      "outputs": []
    },
    {
      "cell_type": "code",
      "source": [
        "head(wine_df_sin_cols)"
      ],
      "metadata": {
        "colab": {
          "base_uri": "https://localhost:8080/",
          "height": 286
        },
        "id": "PVGyOJ76zYxr",
        "outputId": "39aca353-be50-48cb-ad86-3d9895e921c1"
      },
      "execution_count": 27,
      "outputs": [
        {
          "output_type": "display_data",
          "data": {
            "text/html": [
              "<table class=\"dataframe\">\n",
              "<caption>A data.frame: 6 × 10</caption>\n",
              "<thead>\n",
              "\t<tr><th></th><th scope=col>fixed.acidity</th><th scope=col>volatile.acidity</th><th scope=col>citric.acid</th><th scope=col>residual.sugar</th><th scope=col>chlorides</th><th scope=col>density</th><th scope=col>pH</th><th scope=col>sulphates</th><th scope=col>alcohol</th><th scope=col>is_good</th></tr>\n",
              "\t<tr><th></th><th scope=col>&lt;dbl&gt;</th><th scope=col>&lt;dbl&gt;</th><th scope=col>&lt;dbl&gt;</th><th scope=col>&lt;dbl&gt;</th><th scope=col>&lt;dbl&gt;</th><th scope=col>&lt;dbl&gt;</th><th scope=col>&lt;dbl&gt;</th><th scope=col>&lt;dbl&gt;</th><th scope=col>&lt;dbl&gt;</th><th scope=col>&lt;dbl&gt;</th></tr>\n",
              "</thead>\n",
              "<tbody>\n",
              "\t<tr><th scope=row>1</th><td> 7.4</td><td>0.70</td><td>0.00</td><td>1.9</td><td>0.076</td><td>0.9978</td><td>3.51</td><td>0.56</td><td>9.4</td><td>0</td></tr>\n",
              "\t<tr><th scope=row>2</th><td> 7.8</td><td>0.88</td><td>0.00</td><td>2.6</td><td>0.098</td><td>0.9968</td><td>3.20</td><td>0.68</td><td>9.8</td><td>0</td></tr>\n",
              "\t<tr><th scope=row>3</th><td> 7.8</td><td>0.76</td><td>0.04</td><td>2.3</td><td>0.092</td><td>0.9970</td><td>3.26</td><td>0.65</td><td>9.8</td><td>0</td></tr>\n",
              "\t<tr><th scope=row>4</th><td>11.2</td><td>0.28</td><td>0.56</td><td>1.9</td><td>0.075</td><td>0.9980</td><td>3.16</td><td>0.58</td><td>9.8</td><td>1</td></tr>\n",
              "\t<tr><th scope=row>5</th><td> 7.4</td><td>0.70</td><td>0.00</td><td>1.9</td><td>0.076</td><td>0.9978</td><td>3.51</td><td>0.56</td><td>9.4</td><td>0</td></tr>\n",
              "\t<tr><th scope=row>6</th><td> 7.4</td><td>0.66</td><td>0.00</td><td>1.8</td><td>0.075</td><td>0.9978</td><td>3.51</td><td>0.56</td><td>9.4</td><td>0</td></tr>\n",
              "</tbody>\n",
              "</table>\n"
            ],
            "text/markdown": "\nA data.frame: 6 × 10\n\n| <!--/--> | fixed.acidity &lt;dbl&gt; | volatile.acidity &lt;dbl&gt; | citric.acid &lt;dbl&gt; | residual.sugar &lt;dbl&gt; | chlorides &lt;dbl&gt; | density &lt;dbl&gt; | pH &lt;dbl&gt; | sulphates &lt;dbl&gt; | alcohol &lt;dbl&gt; | is_good &lt;dbl&gt; |\n|---|---|---|---|---|---|---|---|---|---|---|\n| 1 |  7.4 | 0.70 | 0.00 | 1.9 | 0.076 | 0.9978 | 3.51 | 0.56 | 9.4 | 0 |\n| 2 |  7.8 | 0.88 | 0.00 | 2.6 | 0.098 | 0.9968 | 3.20 | 0.68 | 9.8 | 0 |\n| 3 |  7.8 | 0.76 | 0.04 | 2.3 | 0.092 | 0.9970 | 3.26 | 0.65 | 9.8 | 0 |\n| 4 | 11.2 | 0.28 | 0.56 | 1.9 | 0.075 | 0.9980 | 3.16 | 0.58 | 9.8 | 1 |\n| 5 |  7.4 | 0.70 | 0.00 | 1.9 | 0.076 | 0.9978 | 3.51 | 0.56 | 9.4 | 0 |\n| 6 |  7.4 | 0.66 | 0.00 | 1.8 | 0.075 | 0.9978 | 3.51 | 0.56 | 9.4 | 0 |\n\n",
            "text/latex": "A data.frame: 6 × 10\n\\begin{tabular}{r|llllllllll}\n  & fixed.acidity & volatile.acidity & citric.acid & residual.sugar & chlorides & density & pH & sulphates & alcohol & is\\_good\\\\\n  & <dbl> & <dbl> & <dbl> & <dbl> & <dbl> & <dbl> & <dbl> & <dbl> & <dbl> & <dbl>\\\\\n\\hline\n\t1 &  7.4 & 0.70 & 0.00 & 1.9 & 0.076 & 0.9978 & 3.51 & 0.56 & 9.4 & 0\\\\\n\t2 &  7.8 & 0.88 & 0.00 & 2.6 & 0.098 & 0.9968 & 3.20 & 0.68 & 9.8 & 0\\\\\n\t3 &  7.8 & 0.76 & 0.04 & 2.3 & 0.092 & 0.9970 & 3.26 & 0.65 & 9.8 & 0\\\\\n\t4 & 11.2 & 0.28 & 0.56 & 1.9 & 0.075 & 0.9980 & 3.16 & 0.58 & 9.8 & 1\\\\\n\t5 &  7.4 & 0.70 & 0.00 & 1.9 & 0.076 & 0.9978 & 3.51 & 0.56 & 9.4 & 0\\\\\n\t6 &  7.4 & 0.66 & 0.00 & 1.8 & 0.075 & 0.9978 & 3.51 & 0.56 & 9.4 & 0\\\\\n\\end{tabular}\n",
            "text/plain": [
              "  fixed.acidity volatile.acidity citric.acid residual.sugar chlorides density\n",
              "1  7.4          0.70             0.00        1.9            0.076     0.9978 \n",
              "2  7.8          0.88             0.00        2.6            0.098     0.9968 \n",
              "3  7.8          0.76             0.04        2.3            0.092     0.9970 \n",
              "4 11.2          0.28             0.56        1.9            0.075     0.9980 \n",
              "5  7.4          0.70             0.00        1.9            0.076     0.9978 \n",
              "6  7.4          0.66             0.00        1.8            0.075     0.9978 \n",
              "  pH   sulphates alcohol is_good\n",
              "1 3.51 0.56      9.4     0      \n",
              "2 3.20 0.68      9.8     0      \n",
              "3 3.26 0.65      9.8     0      \n",
              "4 3.16 0.58      9.8     1      \n",
              "5 3.51 0.56      9.4     0      \n",
              "6 3.51 0.56      9.4     0      "
            ]
          },
          "metadata": {}
        }
      ]
    },
    {
      "cell_type": "markdown",
      "source": [
        "#6. Chequear desbalanceo del dataset y sugerir alternativas para solucionarlo. Explicar"
      ],
      "metadata": {
        "id": "-V0sKcUz0Rgx"
      }
    },
    {
      "cell_type": "code",
      "source": [
        "#Chequeamos desbalanceo\n",
        "table(wine_df_sin_cols$is_good)\n",
        "\n",
        "#OBSERVACION: El dataframe esta ligeramente desbalanceado. La clase 0 representa el 45.12% y la clase 1 el 54.88%"
      ],
      "metadata": {
        "colab": {
          "base_uri": "https://localhost:8080/",
          "height": 72
        },
        "id": "qq5lPsXw06Ds",
        "outputId": "19b11cc4-9990-40bf-f6b3-2f7deb2b15d1"
      },
      "execution_count": 28,
      "outputs": [
        {
          "output_type": "display_data",
          "data": {
            "text/plain": [
              "\n",
              "  0   1 \n",
              "697 847 "
            ]
          },
          "metadata": {}
        }
      ]
    },
    {
      "cell_type": "markdown",
      "source": [
        "## **SOLUCIONES AL DESBALANCEO**"
      ],
      "metadata": {
        "id": "jsSpQtpm2u9L"
      }
    },
    {
      "cell_type": "markdown",
      "source": [
        "### **OPCION 1**"
      ],
      "metadata": {
        "id": "0xIqbS8OLrDI"
      }
    },
    {
      "cell_type": "code",
      "source": [
        "#OPCION 1: elegir 697 filas aleatorias con is_good = 1\n",
        "# Creamos un subconjunto con las filas con is_good = 1\n",
        "df_label_1 <- wine_df_sin_cols[wine_df_sin_cols$is_good == 1, ]\n",
        "\n",
        "# Creamos un subconjunto con las filas con is_good = 0\n",
        "df_label_0 <- wine_df_sin_cols[wine_df_sin_cols$is_good == 0, ]\n",
        "\n",
        "# Seleccionamos aleatoriamente 697 filas de la clase 'is_good = 1'\n",
        "sampled_df_label_1 <- df_label_1[sample(nrow(df_label_1), 697), ]\n",
        "\n",
        "# Combinamos los subconjuntos de las dos clases en un DataFrame balanceado\n",
        "df_balanceado <- rbind(sampled_df_label_1, df_label_0)\n",
        "\n",
        "# Verificamos la distribución de clases en el nuevo DataFrame balanceado\n",
        "table(df_balanceado$is_good)\n"
      ],
      "metadata": {
        "colab": {
          "base_uri": "https://localhost:8080/",
          "height": 0
        },
        "id": "ThVEHESl2yrT",
        "outputId": "f8ef5be8-3eb0-434c-a7be-2ce1fe7c8a5a"
      },
      "execution_count": 29,
      "outputs": [
        {
          "output_type": "display_data",
          "data": {
            "text/plain": [
              "\n",
              "  0   1 \n",
              "697 697 "
            ]
          },
          "metadata": {}
        }
      ]
    },
    {
      "cell_type": "markdown",
      "source": [
        "## **OPCION 2**"
      ],
      "metadata": {
        "id": "xHHOh-11Lwch"
      }
    },
    {
      "cell_type": "code",
      "source": [
        "#OPCION 2: aumentamos las flas para is_good = 0 primero duplico la clase 0 luego selecciono 847 observaciones.\n",
        "# Creamos un subconjunto con las filas con label = 0\n",
        "df_label_0 <- wine_df_sin_cols[wine_df_sin_cols$is_good == 0, ]\n",
        "\n",
        "# Creamos un subconjunto con las filas con label = 1\n",
        "df_label_1 <- wine_df_sin_cols[wine_df_sin_cols$is_good == 1, ]\n",
        "\n",
        "# Duplicamos las observaciones de 'is_good = 0'\n",
        "duplicated_df_label_0 <- df_label_0[rep(row.names(df_label_0), times = 2), ]\n",
        "\n",
        "# Seleccionamos aleatoriamente 847 observaciones de las duplicadas 'is_good = 0'\n",
        "sampled_duplicated_df_label_0 <- duplicated_df_label_0[sample(nrow(duplicated_df_label_0), 847), ]\n",
        "\n",
        "# Combinamos las observaciones duplicadas con las observaciones de 'is_good = 1'\n",
        "df_balanceado <- rbind(sampled_duplicated_df_label_0, df_label_1)\n",
        "\n",
        "# Verificamos la distribución de clases en el nuevo DataFrame balanceado\n",
        "table(df_balanceado$is_good)\n"
      ],
      "metadata": {
        "colab": {
          "base_uri": "https://localhost:8080/",
          "height": 91
        },
        "id": "MJBtDKlj4Flc",
        "outputId": "7833bebf-6aa8-4e86-8e85-b5d6ef3bc91e"
      },
      "execution_count": 122,
      "outputs": [
        {
          "output_type": "display_data",
          "data": {
            "text/plain": [
              "\n",
              "  0   1 \n",
              "847 847 "
            ]
          },
          "metadata": {}
        },
        {
          "output_type": "stream",
          "name": "stdout",
          "text": [
            "[1] 1694\n"
          ]
        }
      ]
    },
    {
      "cell_type": "markdown",
      "source": [
        "## **OPCION 3**"
      ],
      "metadata": {
        "id": "U0T4Z8MoL0DA"
      }
    },
    {
      "cell_type": "code",
      "source": [
        "#OPCION 3: trabajamos con el dataset desbalanceado\n",
        "table(wine_df_sin_cols$is_good)"
      ],
      "metadata": {
        "colab": {
          "base_uri": "https://localhost:8080/",
          "height": 0
        },
        "id": "3O4f7mjE5v5r",
        "outputId": "3391b48d-73e5-4732-d073-71cb7302ba52"
      },
      "execution_count": 32,
      "outputs": [
        {
          "output_type": "display_data",
          "data": {
            "text/plain": [
              "\n",
              "  0   1 \n",
              "697 847 "
            ]
          },
          "metadata": {}
        }
      ]
    },
    {
      "cell_type": "markdown",
      "source": [
        "#7.Entrenar tres modelos (SVM, RF y RNA) para resolver el problema. Realice lo que considere necesario para que el aprendizaje de los tres modelos sea lo mejor posible. 8. Realizar las pruebas de los tres modelos."
      ],
      "metadata": {
        "id": "HoerUh4bvyqP"
      }
    },
    {
      "cell_type": "markdown",
      "source": [
        "## **SVM:** PARA ESTE ENTRENAMIENTO VOY A UTILIZAR LA OPCION 1"
      ],
      "metadata": {
        "id": "1RC-qC0G93gN"
      }
    },
    {
      "cell_type": "code",
      "source": [
        "#OPCION 1:\n",
        "# Creamos un subconjunto de 697 filas con is_good = 1 al azar\n",
        " df_label_1 <- wine_df_sin_cols[wine_df_sin_cols$is_good == 1, ]\n",
        " sampled_df_label_1 <- df_label_1[sample(nrow(df_label_1), 697), ]\n",
        "\n",
        "# Creamos un subconjunto con las filas con is_good = 0\n",
        " df_label_0 <- wine_df_sin_cols[wine_df_sin_cols$is_good == 0, ]\n",
        "\n",
        "# #PARA VER DIFERENCIA COMENTAR/DESCOMENTAR (Ctrl + C / Ctrl + U).\n",
        "# #reemplazar dataframes correspondientes: wine_df y wine_df_sin_outliers_total\n",
        "\n",
        "# # Creamos un subconjunto de 697 filas con is_good = 1 al azar\n",
        "# df_label_1 <- wine_df_sin_outliers_total[wine_df_sin_outliers_total$is_good == 1, ]\n",
        "# sampled_df_label_1 <- df_label_1[sample(nrow(df_label_1), 697), ]\n",
        "# # Creamos un subconjunto con las filas con is_good = 0\n",
        "# df_label_0 <- wine_df_sin_outliers_total[wine_df_sin_outliers_total$is_good == 0, ]"
      ],
      "metadata": {
        "id": "sK3_v2g6w_38"
      },
      "execution_count": 103,
      "outputs": []
    },
    {
      "cell_type": "code",
      "source": [
        "# Definir el número de iteraciones\n",
        "num_iteraciones <- 100\n",
        "\n",
        "# Crear un vector para almacenar los errores\n",
        "errores <- numeric(num_iteraciones)\n",
        "\n",
        "# Repetir el proceso de entrenamiento y prueba 100 veces\n",
        "for (i in 1:num_iteraciones) {\n",
        "  # Combinar los dos conjuntos de datos\n",
        "  combined_df <- rbind(df_label_0, sampled_df_label_1)\n",
        "\n",
        "  # Asegurar que 'is_good' sea un factor\n",
        "  combined_df$is_good <- as.factor(combined_df$is_good)\n",
        "\n",
        "  # Particionar el conjunto de datos combinado\n",
        "  set.seed(1993 + i)  # Cambiar la semilla en cada iteración para datos aleatorios diferentes\n",
        "  t.ids <- createDataPartition(combined_df$is_good, p = 0.7, list = FALSE)\n",
        "\n",
        "  # Dividir el conjunto de datos en entrenamiento y prueba\n",
        "  train_data <- combined_df[t.ids, ]\n",
        "  test_data <- combined_df[-t.ids, ]\n",
        "\n",
        "  # Entrenar el modelo\n",
        "  modelo <- svm(is_good ~ ., data = train_data)\n",
        "\n",
        "  # Realizar predicciones\n",
        "  prediccion <- predict(modelo, newdata = test_data)\n",
        "\n",
        "  # Calcular el error\n",
        "  matriz_confusion <- table(Real = test_data$is_good, Predicho = prediccion)\n",
        "  #Descomentar para mostrar matriz de confusion\n",
        "\n",
        "  #print(matriz_confusion)\n",
        "  # Calculamos las métricas de precisión y sensibilidad\n",
        "  # precision <- (matriz_confusion[1, 1] + matriz_confusion[2, 2]) / sum(matriz_confusion)\n",
        "  # sensibilidad <- matriz_confusion[2, 2] / sum(matriz_confusion[2, ])\n",
        "  # cat('Precisión',i,':', precision, '\\n')\n",
        "  # cat('sensibilidad',i,':', sensibilidad, '\\n')\n",
        "\n",
        "  error <- 1 - sum(diag(matriz_confusion)) / sum(matriz_confusion)\n",
        "\n",
        "  # Almacenar el error en el vector de errores\n",
        "  errores[i] <- error\n",
        "}\n",
        "\n",
        "# Calcular el error medio\n",
        "error_medio <- mean(errores)\n",
        "error_medio\n",
        "# 0.253803827751196 con wine_df_sin_cols\n",
        "# 0.242344497607656 con wine_df_sin_outliers_total\n",
        "# 0.243402777777778 con wine_df"
      ],
      "metadata": {
        "id": "jKiCYI6q_xij"
      },
      "execution_count": null,
      "outputs": []
    },
    {
      "cell_type": "markdown",
      "source": [
        "## **RANDOM FOREST**: PARA ESTE ENTRENAMIENTO VOY A UTILIZAR LA OPCION **3**"
      ],
      "metadata": {
        "id": "OKfGD9ppLFmh"
      }
    },
    {
      "cell_type": "code",
      "source": [
        "# Convertir 'is_good' en un factor\n",
        "wine_df$is_good <- as.factor(wine_df$is_good)\n",
        "\n",
        "# Inicializar una variable para almacenar los errores\n",
        "errores <- numeric(100)\n",
        "\n",
        "# Realizar el bucle para ejecutar el procedimiento 100 veces\n",
        "for (i in 1:100) {\n",
        "  # Crear las particiones de entrenamiento y prueba\n",
        "  set.seed(i + 1000)  # Cambiar la semilla para cada iteración\n",
        "  t.ids <- createDataPartition(wine_df$is_good, p = 0.8, list = FALSE)\n",
        "\n",
        "  # Entrenar el modelo\n",
        "  modelo_rf <- randomForest(is_good ~ ., data = wine_df[t.ids, ])\n",
        "\n",
        "  # Realizar predicciones en datos de prueba\n",
        "  prediccion_rf <- predict(modelo_rf, newdata = wine_df[-t.ids, ])\n",
        "\n",
        "  # Calcular la matriz de confusión\n",
        "  matriz_confusion <- table(Real = wine_df$is_good[-t.ids], Predicho = prediccion_rf)\n",
        "\n",
        "  # Calcular el error y almacenarlo en el vector de errores\n",
        "  error <- 1 - sum(diag(matriz_confusion)) / sum(matriz_confusion)\n",
        "  errores[i] <- error\n",
        "}\n",
        "\n",
        "# Calcular el error promedio\n",
        "error_promedio <- mean(errores)\n",
        "print(paste(\"Error promedio después de 100 iteraciones:\", error_promedio))\n"
      ],
      "metadata": {
        "colab": {
          "base_uri": "https://localhost:8080/"
        },
        "id": "NaH43FCXLh5a",
        "outputId": "70b4bb22-3f6c-4554-99bd-29ef92de5c08"
      },
      "execution_count": 116,
      "outputs": [
        {
          "output_type": "stream",
          "name": "stdout",
          "text": [
            "[1] \"Error promedio después de 100 iteraciones: 0.182100313479624\"\n"
          ]
        }
      ]
    },
    {
      "cell_type": "markdown",
      "source": [
        "## **RNA:** PARA ESTE ENTRENAMIENTO VOY A UTILIZAR LA OPCION 2"
      ],
      "metadata": {
        "id": "NXX9SOGde1iN"
      }
    },
    {
      "cell_type": "code",
      "source": [
        "set.seed(1993)\n",
        "\n",
        "# Creamos índices de muestra para seleccionar 500 elementos aleatorios de cada clase\n",
        "indice_test_1 = sample(which(df_balanceado$is_good == 1), 500)\n",
        "indice_test_0 = sample(which(df_balanceado$is_good == 0), 500)\n",
        "\n",
        "# Usamos los índices creados para separar los datos de entrenamiento y prueba\n",
        "datos_entrenamiento = df_balanceado[-c(indice_test_1, indice_test_0), ]\n",
        "datos_prueba = df_balanceado[c(indice_test_1, indice_test_0), ]\n",
        "\n",
        "# Mostramos la estructura de los datos de entrenamiento y prueba\n",
        "str(datos_entrenamiento)\n",
        "str(datos_prueba)"
      ],
      "metadata": {
        "colab": {
          "base_uri": "https://localhost:8080/"
        },
        "id": "PTUgCOVJe5aa",
        "outputId": "166ddc11-6481-4599-af3d-d2cac3b4a4ff"
      },
      "execution_count": 128,
      "outputs": [
        {
          "output_type": "stream",
          "name": "stdout",
          "text": [
            "'data.frame':\t694 obs. of  10 variables:\n",
            " $ fixed.acidity   : num  8.3 11.2 10 8 9.9 11.6 7.2 6.7 7.8 8 ...\n",
            " $ volatile.acidity: num  1.02 0.4 0.69 0.39 0.74 0.42 0.58 0.64 0.41 0.28 ...\n",
            " $ citric.acid     : num  0.02 0.5 0.11 0.3 0.19 0.53 0.03 0.23 0.68 0.44 ...\n",
            " $ residual.sugar  : num  3.4 2 1.4 1.9 5.8 3.3 2.3 2.1 1.7 1.8 ...\n",
            " $ chlorides       : num  0.084 0.099 0.084 0.074 0.111 0.105 0.077 0.08 0.467 0.081 ...\n",
            " $ density         : num  0.999 0.998 0.996 0.997 0.999 ...\n",
            " $ pH              : num  3.48 3.1 2.88 3.39 3.14 3.2 3.35 3.36 3.08 3.36 ...\n",
            " $ sulphates       : num  0.49 0.58 0.47 0.61 0.55 0.95 0.52 0.7 1.31 0.66 ...\n",
            " $ alcohol         : num  11 10.4 9.7 9 9.4 9.2 10 10.9 9.3 11.2 ...\n",
            " $ is_good         : Factor w/ 2 levels \"0\",\"1\": 1 1 1 1 1 1 1 1 1 1 ...\n",
            "'data.frame':\t1000 obs. of  10 variables:\n",
            " $ fixed.acidity   : num  7 11.6 10 9.4 10.3 8.9 7.8 5.2 7 10.5 ...\n",
            " $ volatile.acidity: num  0.54 0.41 0.35 0.5 0.53 0.28 0.5 0.34 0.55 0.24 ...\n",
            " $ citric.acid     : num  0 0.54 0.47 0.34 0.48 0.45 0.12 0 0.13 0.47 ...\n",
            " $ residual.sugar  : num  2.1 1.5 2 3.6 2.5 1.7 1.8 1.8 2.2 2.1 ...\n",
            " $ chlorides       : num  0.079 0.095 0.061 0.082 0.063 0.067 0.178 0.05 0.075 0.066 ...\n",
            " $ density         : num  0.996 0.997 0.996 0.999 1 ...\n",
            " $ pH              : num  3.39 3.02 3.23 3.29 3.12 3.25 3.28 3.68 3.36 3.15 ...\n",
            " $ sulphates       : num  0.84 0.76 0.52 0.52 0.59 0.55 0.87 0.79 0.59 0.9 ...\n",
            " $ alcohol         : num  11.4 9.9 12 10.7 9.3 12.3 9.8 14 9.7 11 ...\n",
            " $ is_good         : Factor w/ 2 levels \"0\",\"1\": 2 2 2 2 2 2 2 2 2 2 ...\n"
          ]
        }
      ]
    },
    {
      "cell_type": "code",
      "source": [
        "red <- neuralnet(\n",
        "  #formula\n",
        "  is_good ~ fixed.acidity + volatile.acidity + citric.acid + residual.sugar + chlorides +\n",
        "    density + pH + sulphates + alcohol,\n",
        "  #data\n",
        "  datos_entrenamiento,\n",
        "  #capas ocultas\n",
        "  hidden = 10,\n",
        "   #si act.fct NO debe aplicarse a la salida TRUE, de lo contrario FALSE\n",
        "  linear.output = FALSE,\n",
        "  #funcion de activacion\n",
        "  act.fct = \"logistic\",\n",
        "  #tipo de algoritmo\n",
        "  algorithm=\"backprop\",\n",
        "  #umbral\n",
        "  threshold=0.01,\n",
        "  #tasa de aprendisaje se probo con 0.001, 0.005 pero no convergio\n",
        "  learningrate=0.001,\n",
        "  #cantidad de repeticiones\n",
        "  rep=100\n",
        ")"
      ],
      "metadata": {
        "id": "eAxCKrS1nA6F"
      },
      "execution_count": null,
      "outputs": []
    },
    {
      "cell_type": "code",
      "source": [
        "# Realizamos las predicciones con el conjunto de datos de prueba\n",
        "predicciones <- compute(red, datos_prueba[, -which(names(datos_prueba) == \"is_good\")])$net.result"
      ],
      "metadata": {
        "id": "Nc7m12hMnQcj"
      },
      "execution_count": null,
      "outputs": []
    },
    {
      "cell_type": "code",
      "source": [
        "# Convertimos las predicciones a valores binarios (0 o 1)\n",
        "predicciones_binarias <- ifelse(predicciones > 0.5, 1, 0)"
      ],
      "metadata": {
        "id": "6Q4eyoe1nQ32"
      },
      "execution_count": null,
      "outputs": []
    },
    {
      "cell_type": "code",
      "source": [
        "# Calculamos el error\n",
        "ErrorC_RNA <- sum(predicciones_binarias != datos_prueba$is_good) / nrow(datos_prueba)\n",
        "print(ErrorC_RNA)"
      ],
      "metadata": {
        "id": "LJ9dTbA0nUMI"
      },
      "execution_count": null,
      "outputs": []
    },
    {
      "cell_type": "code",
      "source": [
        "# Crear un DataFrame con las predicciones para graficar\n",
        "predicciones_df <- data.frame(\n",
        "  X1test = datos_prueba$X1, # Ajusta los nombres de las columnas según tus datos reales\n",
        "  X2test = datos_prueba$X2,\n",
        "  predicciones_RNA = as.factor(predicciones_binarias)\n",
        ")\n",
        "\n",
        "# Graficar el conjunto de datos de prueba y las predicciones juntas\n",
        "plot_dataset_test <- ggplot(data = datos_prueba, aes(x = X1, y = X2, color = as.factor(is_good))) +\n",
        "  geom_point() +\n",
        "  labs(title = \"Dataset Test\", x = \"X1\", y = \"X2\") +\n",
        "  scale_color_manual(values = c(\"blue\", \"red\"), name = \"Clase\")\n",
        "\n",
        "plot_predictions <- ggplot(data = predicciones_df, aes(x = X1test, y = X2test, color = predicciones_RNA)) +\n",
        "  geom_point() +\n",
        "  labs(title = \"Predicciones\", x = \"X1\", y = \"X2\") +\n",
        "  scale_color_manual(values = c(\"blue\", \"red\"), name = \"Clase\")\n",
        "\n",
        "# Mostrar ambos gráficos juntos\n",
        "grid.arrange(plot_dataset_test, plot_predictions, ncol = 2)\n"
      ],
      "metadata": {
        "id": "lumER7PMnZbU"
      },
      "execution_count": null,
      "outputs": []
    },
    {
      "cell_type": "markdown",
      "source": [
        "#9. Compare los resultados obtenidos y escriba sus conclusiones."
      ],
      "metadata": {
        "id": "LzhzTAfklY5l"
      }
    },
    {
      "cell_type": "markdown",
      "source": [
        "A medidad que se iba desarrollando el practico he realizado observaciones, las cuales se puede visualizar como #OBSERVACION; en base a dichas observaciones puedo concluir lo siguiente:\n",
        "\n",
        "En cuanto al entrenamiento con SVM puedo decir que entre mayor sea la cantidad de datos mejor es la prediccion y clasificacion del algoritmo, ademas podemos ver que este algoritmo SVM no funriona bien con dataframes desbalanceados.\n",
        "En cuanto a las pruebas, se obtuvieron los siguientes resultados:\n",
        "Error = 0.253803827751196 con wine_df_sin_cols\n",
        "Eroor = 0.242344497607656 con wine_df_sin_outliers_total\n",
        "Error = 0.243402777777778 con wine_df\n",
        "Siendo:\n",
        "*   wine_df: es el dataframe original con la columna casteada.\n",
        "*   wine_df_sin_outliers_total: es el dataframe sin valores outliers.\n",
        "*   wine_df_sin_cols: es el dataframe sin dos columnas las cuales tenian una desviacion estandar muy elevada, es decir que los datos estaban muy dispersos.\n",
        "Podemos decir que para este caso el uso del dataframe sin datos outliers fue ligeramente el que menor error obtuvo es decir que su prediccion fue mejor.\n",
        "\n",
        "En cuanto a Random Forest podemos decir que la clasificacion es mucho mejor con datos desbalanceados, es decir con el dataframe original. Se realizaron varias pruebas cambiando el conjunto de entrenamiento y probando diferentes dataframes. Se obtuvieron los siguientes resultados:\n",
        "\n",
        "1.   P=0.7 y wine_df_sin_cols             0.201511879049676\n",
        "2.   P=0.8 y wine_df_sin_cols             0.191298701298701\n",
        "3.   P=0.7 y wine_df                      0.190041753653445\n",
        "4.   P=0.8 y wine_df                      0.182100313479624\n",
        "5.   P=0.7 y wine_df_sin_outliers_total   0.194578833693305\n",
        "6.   p=0.8 y wine_df_sin_outliers_total   0.184318181818182\n",
        "\n",
        "Siendo:\n",
        "p: el conjunto de entrenamiento.\n",
        "Podemos decir que para este modelo, los resultados fueron mejores para un p=0.8 y con el dataframe original."
      ],
      "metadata": {
        "id": "Zklor8pgsFeJ"
      }
    }
  ]
}